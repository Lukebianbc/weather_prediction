{
 "cells": [
  {
   "cell_type": "code",
   "execution_count": 1,
   "id": "671d0a43-5a3a-471f-bd4d-c9b6ba1d59e3",
   "metadata": {
    "id": "671d0a43-5a3a-471f-bd4d-c9b6ba1d59e3"
   },
   "outputs": [],
   "source": [
    "import numpy as np\n",
    "import pandas as pd\n",
    "import matplotlib.pyplot as plt\n",
    "import seaborn as sns\n",
    "from matplotlib.colors import ListedColormap"
   ]
  },
  {
   "cell_type": "code",
   "execution_count": 2,
   "id": "53ae3f4d-6fbe-40fe-ae95-66c2f0375d1e",
   "metadata": {
    "id": "53ae3f4d-6fbe-40fe-ae95-66c2f0375d1e"
   },
   "outputs": [],
   "source": [
    "# Load the three CSV files and rename it\n",
    "city_attributes = pd.read_csv('city_attributes.csv') \n",
    "humidities = pd.read_csv('humidities.csv') \n",
    "pressures = pd.read_csv('pressures.csv') \n",
    "temperatures = pd.read_csv('temperatures.csv') \n",
    "Weather_Description = pd.read_csv('Weather Description.csv') \n",
    "wind_directions = pd.read_csv('wind directions.csv') \n",
    "wind_speeds = pd.read_csv('wind speeds.csv') \n",
    "July4test = pd.read_csv('July4test.csv') "
   ]
  },
  {
   "cell_type": "markdown",
   "id": "f909d771",
   "metadata": {},
   "source": [
    "# One: Know the data"
   ]
  },
  {
   "cell_type": "code",
   "execution_count": 3,
   "id": "14026a6e-0a4d-4194-b894-aab90e790b3f",
   "metadata": {
    "colab": {
     "base_uri": "https://localhost:8080/",
     "height": 192
    },
    "id": "14026a6e-0a4d-4194-b894-aab90e790b3f",
    "outputId": "12fb1eb6-af1b-4ff2-94d3-2dc9ddeddcfe"
   },
   "outputs": [
    {
     "data": {
      "text/plain": [
       "(4, 7)"
      ]
     },
     "metadata": {},
     "output_type": "display_data"
    },
    {
     "data": {
      "text/html": [
       "<div>\n",
       "<style scoped>\n",
       "    .dataframe tbody tr th:only-of-type {\n",
       "        vertical-align: middle;\n",
       "    }\n",
       "\n",
       "    .dataframe tbody tr th {\n",
       "        vertical-align: top;\n",
       "    }\n",
       "\n",
       "    .dataframe thead th {\n",
       "        text-align: right;\n",
       "    }\n",
       "</style>\n",
       "<table border=\"1\" class=\"dataframe\">\n",
       "  <thead>\n",
       "    <tr style=\"text-align: right;\">\n",
       "      <th></th>\n",
       "      <th>datetime</th>\n",
       "      <th>Los Angeles</th>\n",
       "      <th>Denver</th>\n",
       "      <th>Atlanta</th>\n",
       "      <th>Jacksonville</th>\n",
       "      <th>Miami</th>\n",
       "      <th>Reading</th>\n",
       "    </tr>\n",
       "  </thead>\n",
       "  <tbody>\n",
       "    <tr>\n",
       "      <th>0</th>\n",
       "      <td>7/4/2014 13:00</td>\n",
       "      <td>100</td>\n",
       "      <td>56</td>\n",
       "      <td>72</td>\n",
       "      <td>78</td>\n",
       "      <td>70</td>\n",
       "      <td>humidity</td>\n",
       "    </tr>\n",
       "    <tr>\n",
       "      <th>1</th>\n",
       "      <td>7/4/2014 13:00</td>\n",
       "      <td>1014</td>\n",
       "      <td>1059</td>\n",
       "      <td>1020</td>\n",
       "      <td>1020</td>\n",
       "      <td>1021</td>\n",
       "      <td>pressure</td>\n",
       "    </tr>\n",
       "    <tr>\n",
       "      <th>2</th>\n",
       "      <td>7/4/2014 13:00</td>\n",
       "      <td>45</td>\n",
       "      <td>233</td>\n",
       "      <td>0</td>\n",
       "      <td>240</td>\n",
       "      <td>140</td>\n",
       "      <td>wind direction</td>\n",
       "    </tr>\n",
       "    <tr>\n",
       "      <th>3</th>\n",
       "      <td>7/4/2014 13:00</td>\n",
       "      <td>0</td>\n",
       "      <td>1</td>\n",
       "      <td>1</td>\n",
       "      <td>2</td>\n",
       "      <td>2</td>\n",
       "      <td>wind speed</td>\n",
       "    </tr>\n",
       "  </tbody>\n",
       "</table>\n",
       "</div>"
      ],
      "text/plain": [
       "         datetime  Los Angeles  Denver  Atlanta  Jacksonville  Miami  \\\n",
       "0  7/4/2014 13:00          100      56       72            78     70   \n",
       "1  7/4/2014 13:00         1014    1059     1020          1020   1021   \n",
       "2  7/4/2014 13:00           45     233        0           240    140   \n",
       "3  7/4/2014 13:00            0       1        1             2      2   \n",
       "\n",
       "          Reading  \n",
       "0        humidity  \n",
       "1        pressure  \n",
       "2  wind direction  \n",
       "3      wind speed  "
      ]
     },
     "metadata": {},
     "output_type": "display_data"
    },
    {
     "name": "stdout",
     "output_type": "stream",
     "text": [
      "<class 'pandas.core.frame.DataFrame'>\n",
      "RangeIndex: 4 entries, 0 to 3\n",
      "Data columns (total 7 columns):\n",
      " #   Column        Non-Null Count  Dtype \n",
      "---  ------        --------------  ----- \n",
      " 0   datetime      4 non-null      object\n",
      " 1   Los Angeles   4 non-null      int64 \n",
      " 2   Denver        4 non-null      int64 \n",
      " 3   Atlanta       4 non-null      int64 \n",
      " 4   Jacksonville  4 non-null      int64 \n",
      " 5   Miami         4 non-null      int64 \n",
      " 6   Reading       4 non-null      object\n",
      "dtypes: int64(5), object(2)\n",
      "memory usage: 352.0+ bytes\n"
     ]
    }
   ],
   "source": [
    "display(July4test.shape)\n",
    "display(July4test)\n",
    "July4test.info()"
   ]
  },
  {
   "cell_type": "code",
   "execution_count": 4,
   "id": "13866e37-45ab-4e61-9d23-5b5afee6a648",
   "metadata": {
    "colab": {
     "base_uri": "https://localhost:8080/",
     "height": 349
    },
    "id": "13866e37-45ab-4e61-9d23-5b5afee6a648",
    "outputId": "c1c38dc0-7b90-459a-d8ff-fac842e137cf"
   },
   "outputs": [
    {
     "data": {
      "text/plain": [
       "(10874, 6)"
      ]
     },
     "metadata": {},
     "output_type": "display_data"
    },
    {
     "data": {
      "text/plain": [
       "datetime           0\n",
       "Los Angeles      136\n",
       "Denver          1591\n",
       "Atlanta          275\n",
       "Jacksonville     316\n",
       "Miami            173\n",
       "dtype: int64"
      ]
     },
     "metadata": {},
     "output_type": "display_data"
    },
    {
     "data": {
      "text/html": [
       "<div>\n",
       "<style scoped>\n",
       "    .dataframe tbody tr th:only-of-type {\n",
       "        vertical-align: middle;\n",
       "    }\n",
       "\n",
       "    .dataframe tbody tr th {\n",
       "        vertical-align: top;\n",
       "    }\n",
       "\n",
       "    .dataframe thead th {\n",
       "        text-align: right;\n",
       "    }\n",
       "</style>\n",
       "<table border=\"1\" class=\"dataframe\">\n",
       "  <thead>\n",
       "    <tr style=\"text-align: right;\">\n",
       "      <th></th>\n",
       "      <th>datetime</th>\n",
       "      <th>Los Angeles</th>\n",
       "      <th>Denver</th>\n",
       "      <th>Atlanta</th>\n",
       "      <th>Jacksonville</th>\n",
       "      <th>Miami</th>\n",
       "    </tr>\n",
       "  </thead>\n",
       "  <tbody>\n",
       "    <tr>\n",
       "      <th>0</th>\n",
       "      <td>10/1/2012 13:00</td>\n",
       "      <td>88.0</td>\n",
       "      <td>62.0</td>\n",
       "      <td>94.0</td>\n",
       "      <td>88.0</td>\n",
       "      <td>83.0</td>\n",
       "    </tr>\n",
       "    <tr>\n",
       "      <th>1</th>\n",
       "      <td>10/1/2012 14:00</td>\n",
       "      <td>88.0</td>\n",
       "      <td>62.0</td>\n",
       "      <td>94.0</td>\n",
       "      <td>87.0</td>\n",
       "      <td>82.0</td>\n",
       "    </tr>\n",
       "    <tr>\n",
       "      <th>2</th>\n",
       "      <td>10/1/2012 15:00</td>\n",
       "      <td>88.0</td>\n",
       "      <td>62.0</td>\n",
       "      <td>94.0</td>\n",
       "      <td>87.0</td>\n",
       "      <td>82.0</td>\n",
       "    </tr>\n",
       "    <tr>\n",
       "      <th>3</th>\n",
       "      <td>10/1/2012 16:00</td>\n",
       "      <td>88.0</td>\n",
       "      <td>62.0</td>\n",
       "      <td>94.0</td>\n",
       "      <td>87.0</td>\n",
       "      <td>82.0</td>\n",
       "    </tr>\n",
       "    <tr>\n",
       "      <th>4</th>\n",
       "      <td>10/1/2012 17:00</td>\n",
       "      <td>88.0</td>\n",
       "      <td>63.0</td>\n",
       "      <td>94.0</td>\n",
       "      <td>86.0</td>\n",
       "      <td>81.0</td>\n",
       "    </tr>\n",
       "  </tbody>\n",
       "</table>\n",
       "</div>"
      ],
      "text/plain": [
       "          datetime  Los Angeles  Denver  Atlanta  Jacksonville  Miami\n",
       "0  10/1/2012 13:00         88.0    62.0     94.0          88.0   83.0\n",
       "1  10/1/2012 14:00         88.0    62.0     94.0          87.0   82.0\n",
       "2  10/1/2012 15:00         88.0    62.0     94.0          87.0   82.0\n",
       "3  10/1/2012 16:00         88.0    62.0     94.0          87.0   82.0\n",
       "4  10/1/2012 17:00         88.0    63.0     94.0          86.0   81.0"
      ]
     },
     "metadata": {},
     "output_type": "display_data"
    },
    {
     "name": "stdout",
     "output_type": "stream",
     "text": [
      "<class 'pandas.core.frame.DataFrame'>\n",
      "RangeIndex: 10874 entries, 0 to 10873\n",
      "Data columns (total 6 columns):\n",
      " #   Column        Non-Null Count  Dtype  \n",
      "---  ------        --------------  -----  \n",
      " 0   datetime      10874 non-null  object \n",
      " 1   Los Angeles   10738 non-null  float64\n",
      " 2   Denver        9283 non-null   float64\n",
      " 3   Atlanta       10599 non-null  float64\n",
      " 4   Jacksonville  10558 non-null  float64\n",
      " 5   Miami         10701 non-null  float64\n",
      "dtypes: float64(5), object(1)\n",
      "memory usage: 509.8+ KB\n"
     ]
    }
   ],
   "source": [
    "display(humidities.shape)\n",
    "display(humidities.isnull().sum())\n",
    "display(humidities.head())\n",
    "humidities.info()"
   ]
  },
  {
   "cell_type": "code",
   "execution_count": 5,
   "id": "785d534c-675e-4339-932a-1bd29cfe9ba3",
   "metadata": {
    "colab": {
     "base_uri": "https://localhost:8080/",
     "height": 349
    },
    "id": "785d534c-675e-4339-932a-1bd29cfe9ba3",
    "outputId": "253cc6f0-6216-4edf-cca2-442b00b35b64"
   },
   "outputs": [
    {
     "data": {
      "text/plain": [
       "(10946, 6)"
      ]
     },
     "metadata": {},
     "output_type": "display_data"
    },
    {
     "data": {
      "text/plain": [
       "datetime          0\n",
       "Los Angeles     250\n",
       "Denver          442\n",
       "Atlanta          48\n",
       "Jacksonville     15\n",
       "Miami             2\n",
       "dtype: int64"
      ]
     },
     "metadata": {},
     "output_type": "display_data"
    },
    {
     "data": {
      "text/html": [
       "<div>\n",
       "<style scoped>\n",
       "    .dataframe tbody tr th:only-of-type {\n",
       "        vertical-align: middle;\n",
       "    }\n",
       "\n",
       "    .dataframe tbody tr th {\n",
       "        vertical-align: top;\n",
       "    }\n",
       "\n",
       "    .dataframe thead th {\n",
       "        text-align: right;\n",
       "    }\n",
       "</style>\n",
       "<table border=\"1\" class=\"dataframe\">\n",
       "  <thead>\n",
       "    <tr style=\"text-align: right;\">\n",
       "      <th></th>\n",
       "      <th>datetime</th>\n",
       "      <th>Los Angeles</th>\n",
       "      <th>Denver</th>\n",
       "      <th>Atlanta</th>\n",
       "      <th>Jacksonville</th>\n",
       "      <th>Miami</th>\n",
       "    </tr>\n",
       "  </thead>\n",
       "  <tbody>\n",
       "    <tr>\n",
       "      <th>0</th>\n",
       "      <td>10/1/2012 13:00</td>\n",
       "      <td>1013.0</td>\n",
       "      <td>1028.0</td>\n",
       "      <td>1006.0</td>\n",
       "      <td>1009.0</td>\n",
       "      <td>1011.0</td>\n",
       "    </tr>\n",
       "    <tr>\n",
       "      <th>1</th>\n",
       "      <td>10/1/2012 14:00</td>\n",
       "      <td>1013.0</td>\n",
       "      <td>1028.0</td>\n",
       "      <td>1006.0</td>\n",
       "      <td>1009.0</td>\n",
       "      <td>1011.0</td>\n",
       "    </tr>\n",
       "    <tr>\n",
       "      <th>2</th>\n",
       "      <td>10/1/2012 15:00</td>\n",
       "      <td>1013.0</td>\n",
       "      <td>1028.0</td>\n",
       "      <td>1006.0</td>\n",
       "      <td>1009.0</td>\n",
       "      <td>1011.0</td>\n",
       "    </tr>\n",
       "    <tr>\n",
       "      <th>3</th>\n",
       "      <td>10/1/2012 16:00</td>\n",
       "      <td>1013.0</td>\n",
       "      <td>1028.0</td>\n",
       "      <td>1006.0</td>\n",
       "      <td>1009.0</td>\n",
       "      <td>1011.0</td>\n",
       "    </tr>\n",
       "    <tr>\n",
       "      <th>4</th>\n",
       "      <td>10/1/2012 17:00</td>\n",
       "      <td>1013.0</td>\n",
       "      <td>1028.0</td>\n",
       "      <td>1006.0</td>\n",
       "      <td>1009.0</td>\n",
       "      <td>1011.0</td>\n",
       "    </tr>\n",
       "  </tbody>\n",
       "</table>\n",
       "</div>"
      ],
      "text/plain": [
       "          datetime  Los Angeles  Denver  Atlanta  Jacksonville   Miami\n",
       "0  10/1/2012 13:00       1013.0  1028.0   1006.0        1009.0  1011.0\n",
       "1  10/1/2012 14:00       1013.0  1028.0   1006.0        1009.0  1011.0\n",
       "2  10/1/2012 15:00       1013.0  1028.0   1006.0        1009.0  1011.0\n",
       "3  10/1/2012 16:00       1013.0  1028.0   1006.0        1009.0  1011.0\n",
       "4  10/1/2012 17:00       1013.0  1028.0   1006.0        1009.0  1011.0"
      ]
     },
     "metadata": {},
     "output_type": "display_data"
    }
   ],
   "source": [
    "display(pressures.shape)\n",
    "display(pressures.isnull().sum())\n",
    "display(pressures.head())\n",
    "#pressures.info()"
   ]
  },
  {
   "cell_type": "code",
   "execution_count": 6,
   "id": "bf19ec5b-fc52-4304-b4bf-286bc94a1811",
   "metadata": {
    "colab": {
     "base_uri": "https://localhost:8080/",
     "height": 349
    },
    "id": "bf19ec5b-fc52-4304-b4bf-286bc94a1811",
    "outputId": "1bd9f283-3aea-41a1-fd97-c627ebe5cde0"
   },
   "outputs": [
    {
     "data": {
      "text/plain": [
       "(10955, 6)"
      ]
     },
     "metadata": {},
     "output_type": "display_data"
    },
    {
     "data": {
      "text/plain": [
       "datetime         0\n",
       "Los Angeles      2\n",
       "Denver           0\n",
       "Atlanta          5\n",
       "Jacksonville     0\n",
       "Miami           12\n",
       "dtype: int64"
      ]
     },
     "metadata": {},
     "output_type": "display_data"
    },
    {
     "data": {
      "text/html": [
       "<div>\n",
       "<style scoped>\n",
       "    .dataframe tbody tr th:only-of-type {\n",
       "        vertical-align: middle;\n",
       "    }\n",
       "\n",
       "    .dataframe tbody tr th {\n",
       "        vertical-align: top;\n",
       "    }\n",
       "\n",
       "    .dataframe thead th {\n",
       "        text-align: right;\n",
       "    }\n",
       "</style>\n",
       "<table border=\"1\" class=\"dataframe\">\n",
       "  <thead>\n",
       "    <tr style=\"text-align: right;\">\n",
       "      <th></th>\n",
       "      <th>datetime</th>\n",
       "      <th>Los Angeles</th>\n",
       "      <th>Denver</th>\n",
       "      <th>Atlanta</th>\n",
       "      <th>Jacksonville</th>\n",
       "      <th>Miami</th>\n",
       "    </tr>\n",
       "  </thead>\n",
       "  <tbody>\n",
       "    <tr>\n",
       "      <th>0</th>\n",
       "      <td>10/1/2012 13:00</td>\n",
       "      <td>291.870000</td>\n",
       "      <td>284.610000</td>\n",
       "      <td>294.030000</td>\n",
       "      <td>298.170000</td>\n",
       "      <td>299.720000</td>\n",
       "    </tr>\n",
       "    <tr>\n",
       "      <th>1</th>\n",
       "      <td>10/1/2012 14:00</td>\n",
       "      <td>291.868185</td>\n",
       "      <td>284.607305</td>\n",
       "      <td>294.035341</td>\n",
       "      <td>298.205230</td>\n",
       "      <td>299.732518</td>\n",
       "    </tr>\n",
       "    <tr>\n",
       "      <th>2</th>\n",
       "      <td>10/1/2012 15:00</td>\n",
       "      <td>291.862844</td>\n",
       "      <td>284.599918</td>\n",
       "      <td>294.049702</td>\n",
       "      <td>298.299595</td>\n",
       "      <td>299.766579</td>\n",
       "    </tr>\n",
       "    <tr>\n",
       "      <th>3</th>\n",
       "      <td>10/1/2012 16:00</td>\n",
       "      <td>291.857503</td>\n",
       "      <td>284.592530</td>\n",
       "      <td>294.064063</td>\n",
       "      <td>298.393961</td>\n",
       "      <td>299.800641</td>\n",
       "    </tr>\n",
       "    <tr>\n",
       "      <th>4</th>\n",
       "      <td>10/1/2012 17:00</td>\n",
       "      <td>291.852162</td>\n",
       "      <td>284.585142</td>\n",
       "      <td>294.078424</td>\n",
       "      <td>298.488326</td>\n",
       "      <td>299.834703</td>\n",
       "    </tr>\n",
       "  </tbody>\n",
       "</table>\n",
       "</div>"
      ],
      "text/plain": [
       "          datetime  Los Angeles      Denver     Atlanta  Jacksonville  \\\n",
       "0  10/1/2012 13:00   291.870000  284.610000  294.030000    298.170000   \n",
       "1  10/1/2012 14:00   291.868185  284.607305  294.035341    298.205230   \n",
       "2  10/1/2012 15:00   291.862844  284.599918  294.049702    298.299595   \n",
       "3  10/1/2012 16:00   291.857503  284.592530  294.064063    298.393961   \n",
       "4  10/1/2012 17:00   291.852162  284.585142  294.078424    298.488326   \n",
       "\n",
       "        Miami  \n",
       "0  299.720000  \n",
       "1  299.732518  \n",
       "2  299.766579  \n",
       "3  299.800641  \n",
       "4  299.834703  "
      ]
     },
     "metadata": {},
     "output_type": "display_data"
    }
   ],
   "source": [
    "display(temperatures.shape)\n",
    "display(temperatures.isnull().sum())\n",
    "display(temperatures.head())\n",
    "#temperatures.info()"
   ]
  },
  {
   "cell_type": "code",
   "execution_count": 7,
   "id": "ed2b8741-660c-4b2a-8e70-c93aa85d0cb9",
   "metadata": {
    "colab": {
     "base_uri": "https://localhost:8080/",
     "height": 349
    },
    "id": "ed2b8741-660c-4b2a-8e70-c93aa85d0cb9",
    "outputId": "b14570c1-43a0-4435-fd21-85d975d4eeea"
   },
   "outputs": [
    {
     "data": {
      "text/plain": [
       "(10955, 6)"
      ]
     },
     "metadata": {},
     "output_type": "display_data"
    },
    {
     "data": {
      "text/plain": [
       "datetime        0\n",
       "Los Angeles     0\n",
       "Denver          0\n",
       "Atlanta         0\n",
       "Jacksonville    0\n",
       "Miami           0\n",
       "dtype: int64"
      ]
     },
     "metadata": {},
     "output_type": "display_data"
    },
    {
     "data": {
      "text/html": [
       "<div>\n",
       "<style scoped>\n",
       "    .dataframe tbody tr th:only-of-type {\n",
       "        vertical-align: middle;\n",
       "    }\n",
       "\n",
       "    .dataframe tbody tr th {\n",
       "        vertical-align: top;\n",
       "    }\n",
       "\n",
       "    .dataframe thead th {\n",
       "        text-align: right;\n",
       "    }\n",
       "</style>\n",
       "<table border=\"1\" class=\"dataframe\">\n",
       "  <thead>\n",
       "    <tr style=\"text-align: right;\">\n",
       "      <th></th>\n",
       "      <th>datetime</th>\n",
       "      <th>Los Angeles</th>\n",
       "      <th>Denver</th>\n",
       "      <th>Atlanta</th>\n",
       "      <th>Jacksonville</th>\n",
       "      <th>Miami</th>\n",
       "    </tr>\n",
       "  </thead>\n",
       "  <tbody>\n",
       "    <tr>\n",
       "      <th>0</th>\n",
       "      <td>10/1/2012 13:00</td>\n",
       "      <td>mist</td>\n",
       "      <td>light rain</td>\n",
       "      <td>light rain</td>\n",
       "      <td>scattered clouds</td>\n",
       "      <td>light intensity drizzle</td>\n",
       "    </tr>\n",
       "    <tr>\n",
       "      <th>1</th>\n",
       "      <td>10/1/2012 14:00</td>\n",
       "      <td>sky is clear</td>\n",
       "      <td>broken clouds</td>\n",
       "      <td>overcast clouds</td>\n",
       "      <td>scattered clouds</td>\n",
       "      <td>broken clouds</td>\n",
       "    </tr>\n",
       "    <tr>\n",
       "      <th>2</th>\n",
       "      <td>10/1/2012 15:00</td>\n",
       "      <td>sky is clear</td>\n",
       "      <td>broken clouds</td>\n",
       "      <td>overcast clouds</td>\n",
       "      <td>scattered clouds</td>\n",
       "      <td>broken clouds</td>\n",
       "    </tr>\n",
       "    <tr>\n",
       "      <th>3</th>\n",
       "      <td>10/1/2012 16:00</td>\n",
       "      <td>sky is clear</td>\n",
       "      <td>broken clouds</td>\n",
       "      <td>overcast clouds</td>\n",
       "      <td>scattered clouds</td>\n",
       "      <td>broken clouds</td>\n",
       "    </tr>\n",
       "    <tr>\n",
       "      <th>4</th>\n",
       "      <td>10/1/2012 17:00</td>\n",
       "      <td>sky is clear</td>\n",
       "      <td>broken clouds</td>\n",
       "      <td>overcast clouds</td>\n",
       "      <td>scattered clouds</td>\n",
       "      <td>broken clouds</td>\n",
       "    </tr>\n",
       "  </tbody>\n",
       "</table>\n",
       "</div>"
      ],
      "text/plain": [
       "          datetime   Los Angeles         Denver          Atlanta  \\\n",
       "0  10/1/2012 13:00          mist     light rain       light rain   \n",
       "1  10/1/2012 14:00  sky is clear  broken clouds  overcast clouds   \n",
       "2  10/1/2012 15:00  sky is clear  broken clouds  overcast clouds   \n",
       "3  10/1/2012 16:00  sky is clear  broken clouds  overcast clouds   \n",
       "4  10/1/2012 17:00  sky is clear  broken clouds  overcast clouds   \n",
       "\n",
       "       Jacksonville                    Miami  \n",
       "0  scattered clouds  light intensity drizzle  \n",
       "1  scattered clouds            broken clouds  \n",
       "2  scattered clouds            broken clouds  \n",
       "3  scattered clouds            broken clouds  \n",
       "4  scattered clouds            broken clouds  "
      ]
     },
     "metadata": {},
     "output_type": "display_data"
    }
   ],
   "source": [
    "display(Weather_Description.shape)\n",
    "display(Weather_Description.isnull().sum())\n",
    "display(Weather_Description.head())\n",
    "#Weather_Description.info()"
   ]
  },
  {
   "cell_type": "code",
   "execution_count": 8,
   "id": "dc043178-4dd7-473e-bf9d-87ca207787f9",
   "metadata": {
    "colab": {
     "base_uri": "https://localhost:8080/",
     "height": 349
    },
    "id": "dc043178-4dd7-473e-bf9d-87ca207787f9",
    "outputId": "9b2e57c1-a035-4d90-e96d-b6d94f332203"
   },
   "outputs": [
    {
     "data": {
      "text/plain": [
       "(10955, 6)"
      ]
     },
     "metadata": {},
     "output_type": "display_data"
    },
    {
     "data": {
      "text/plain": [
       "datetime        0\n",
       "Los Angeles     0\n",
       "Denver          0\n",
       "Atlanta         0\n",
       "Jacksonville    3\n",
       "Miami           0\n",
       "dtype: int64"
      ]
     },
     "metadata": {},
     "output_type": "display_data"
    },
    {
     "data": {
      "text/html": [
       "<div>\n",
       "<style scoped>\n",
       "    .dataframe tbody tr th:only-of-type {\n",
       "        vertical-align: middle;\n",
       "    }\n",
       "\n",
       "    .dataframe tbody tr th {\n",
       "        vertical-align: top;\n",
       "    }\n",
       "\n",
       "    .dataframe thead th {\n",
       "        text-align: right;\n",
       "    }\n",
       "</style>\n",
       "<table border=\"1\" class=\"dataframe\">\n",
       "  <thead>\n",
       "    <tr style=\"text-align: right;\">\n",
       "      <th></th>\n",
       "      <th>datetime</th>\n",
       "      <th>Los Angeles</th>\n",
       "      <th>Denver</th>\n",
       "      <th>Atlanta</th>\n",
       "      <th>Jacksonville</th>\n",
       "      <th>Miami</th>\n",
       "    </tr>\n",
       "  </thead>\n",
       "  <tbody>\n",
       "    <tr>\n",
       "      <th>0</th>\n",
       "      <td>10/1/2012 13:00</td>\n",
       "      <td>0</td>\n",
       "      <td>20</td>\n",
       "      <td>110</td>\n",
       "      <td>180.0</td>\n",
       "      <td>200</td>\n",
       "    </tr>\n",
       "    <tr>\n",
       "      <th>1</th>\n",
       "      <td>10/1/2012 14:00</td>\n",
       "      <td>0</td>\n",
       "      <td>22</td>\n",
       "      <td>110</td>\n",
       "      <td>180.0</td>\n",
       "      <td>200</td>\n",
       "    </tr>\n",
       "    <tr>\n",
       "      <th>2</th>\n",
       "      <td>10/1/2012 15:00</td>\n",
       "      <td>0</td>\n",
       "      <td>31</td>\n",
       "      <td>111</td>\n",
       "      <td>180.0</td>\n",
       "      <td>200</td>\n",
       "    </tr>\n",
       "    <tr>\n",
       "      <th>3</th>\n",
       "      <td>10/1/2012 16:00</td>\n",
       "      <td>0</td>\n",
       "      <td>39</td>\n",
       "      <td>111</td>\n",
       "      <td>180.0</td>\n",
       "      <td>200</td>\n",
       "    </tr>\n",
       "    <tr>\n",
       "      <th>4</th>\n",
       "      <td>10/1/2012 17:00</td>\n",
       "      <td>0</td>\n",
       "      <td>47</td>\n",
       "      <td>112</td>\n",
       "      <td>180.0</td>\n",
       "      <td>200</td>\n",
       "    </tr>\n",
       "  </tbody>\n",
       "</table>\n",
       "</div>"
      ],
      "text/plain": [
       "          datetime  Los Angeles  Denver  Atlanta  Jacksonville  Miami\n",
       "0  10/1/2012 13:00            0      20      110         180.0    200\n",
       "1  10/1/2012 14:00            0      22      110         180.0    200\n",
       "2  10/1/2012 15:00            0      31      111         180.0    200\n",
       "3  10/1/2012 16:00            0      39      111         180.0    200\n",
       "4  10/1/2012 17:00            0      47      112         180.0    200"
      ]
     },
     "metadata": {},
     "output_type": "display_data"
    }
   ],
   "source": [
    "display(wind_directions.shape)\n",
    "display(wind_directions.isnull().sum())\n",
    "display(wind_directions.head())\n",
    "#wind_directions.info()"
   ]
  },
  {
   "cell_type": "code",
   "execution_count": 9,
   "id": "e6b6be4c-147c-47ad-8900-2669e7b1e4d0",
   "metadata": {
    "colab": {
     "base_uri": "https://localhost:8080/",
     "height": 349
    },
    "id": "e6b6be4c-147c-47ad-8900-2669e7b1e4d0",
    "outputId": "215df3a0-c0a8-4b70-cb9e-54b6a577f873"
   },
   "outputs": [
    {
     "data": {
      "text/plain": [
       "(10955, 6)"
      ]
     },
     "metadata": {},
     "output_type": "display_data"
    },
    {
     "data": {
      "text/plain": [
       "datetime        0\n",
       "Los Angeles     0\n",
       "Denver          0\n",
       "Atlanta         0\n",
       "Jacksonville    0\n",
       "Miami           0\n",
       "dtype: int64"
      ]
     },
     "metadata": {},
     "output_type": "display_data"
    },
    {
     "data": {
      "text/html": [
       "<div>\n",
       "<style scoped>\n",
       "    .dataframe tbody tr th:only-of-type {\n",
       "        vertical-align: middle;\n",
       "    }\n",
       "\n",
       "    .dataframe tbody tr th {\n",
       "        vertical-align: top;\n",
       "    }\n",
       "\n",
       "    .dataframe thead th {\n",
       "        text-align: right;\n",
       "    }\n",
       "</style>\n",
       "<table border=\"1\" class=\"dataframe\">\n",
       "  <thead>\n",
       "    <tr style=\"text-align: right;\">\n",
       "      <th></th>\n",
       "      <th>datetime</th>\n",
       "      <th>Los Angeles</th>\n",
       "      <th>Denver</th>\n",
       "      <th>Atlanta</th>\n",
       "      <th>Jacksonville</th>\n",
       "      <th>Miami</th>\n",
       "    </tr>\n",
       "  </thead>\n",
       "  <tbody>\n",
       "    <tr>\n",
       "      <th>0</th>\n",
       "      <td>10/1/2012 13:00</td>\n",
       "      <td>0</td>\n",
       "      <td>4</td>\n",
       "      <td>3</td>\n",
       "      <td>3</td>\n",
       "      <td>3</td>\n",
       "    </tr>\n",
       "    <tr>\n",
       "      <th>1</th>\n",
       "      <td>10/1/2012 14:00</td>\n",
       "      <td>0</td>\n",
       "      <td>4</td>\n",
       "      <td>3</td>\n",
       "      <td>3</td>\n",
       "      <td>3</td>\n",
       "    </tr>\n",
       "    <tr>\n",
       "      <th>2</th>\n",
       "      <td>10/1/2012 15:00</td>\n",
       "      <td>0</td>\n",
       "      <td>3</td>\n",
       "      <td>3</td>\n",
       "      <td>3</td>\n",
       "      <td>3</td>\n",
       "    </tr>\n",
       "    <tr>\n",
       "      <th>3</th>\n",
       "      <td>10/1/2012 16:00</td>\n",
       "      <td>0</td>\n",
       "      <td>3</td>\n",
       "      <td>3</td>\n",
       "      <td>3</td>\n",
       "      <td>3</td>\n",
       "    </tr>\n",
       "    <tr>\n",
       "      <th>4</th>\n",
       "      <td>10/1/2012 17:00</td>\n",
       "      <td>0</td>\n",
       "      <td>3</td>\n",
       "      <td>3</td>\n",
       "      <td>3</td>\n",
       "      <td>3</td>\n",
       "    </tr>\n",
       "  </tbody>\n",
       "</table>\n",
       "</div>"
      ],
      "text/plain": [
       "          datetime  Los Angeles  Denver  Atlanta  Jacksonville  Miami\n",
       "0  10/1/2012 13:00            0       4        3             3      3\n",
       "1  10/1/2012 14:00            0       4        3             3      3\n",
       "2  10/1/2012 15:00            0       3        3             3      3\n",
       "3  10/1/2012 16:00            0       3        3             3      3\n",
       "4  10/1/2012 17:00            0       3        3             3      3"
      ]
     },
     "metadata": {},
     "output_type": "display_data"
    }
   ],
   "source": [
    "display(wind_speeds.shape)\n",
    "display(wind_speeds.isnull().sum())\n",
    "display(wind_speeds.head())\n",
    "#wind_speeds.info()"
   ]
  },
  {
   "cell_type": "markdown",
   "id": "93395152-cdb4-4405-bf53-fbbd3f5b22c2",
   "metadata": {
    "id": "93395152-cdb4-4405-bf53-fbbd3f5b22c2"
   },
   "source": [
    "# Two: Prepare data\n",
    "### 1. LA"
   ]
  },
  {
   "cell_type": "code",
   "execution_count": 10,
   "id": "9bee0cbe-08dd-4cfe-bb9b-aba247eb76a7",
   "metadata": {
    "colab": {
     "base_uri": "https://localhost:8080/",
     "height": 0
    },
    "id": "9bee0cbe-08dd-4cfe-bb9b-aba247eb76a7",
    "outputId": "6aa62f31-417a-4573-a360-46c2f1039737"
   },
   "outputs": [
    {
     "data": {
      "text/plain": [
       "(10955, 8)"
      ]
     },
     "metadata": {},
     "output_type": "display_data"
    },
    {
     "data": {
      "text/html": [
       "<div>\n",
       "<style scoped>\n",
       "    .dataframe tbody tr th:only-of-type {\n",
       "        vertical-align: middle;\n",
       "    }\n",
       "\n",
       "    .dataframe tbody tr th {\n",
       "        vertical-align: top;\n",
       "    }\n",
       "\n",
       "    .dataframe thead th {\n",
       "        text-align: right;\n",
       "    }\n",
       "</style>\n",
       "<table border=\"1\" class=\"dataframe\">\n",
       "  <thead>\n",
       "    <tr style=\"text-align: right;\">\n",
       "      <th></th>\n",
       "      <th>datetime</th>\n",
       "      <th>speed</th>\n",
       "      <th>direction</th>\n",
       "      <th>description</th>\n",
       "      <th>temperatures</th>\n",
       "      <th>pressures</th>\n",
       "      <th>humidities</th>\n",
       "      <th>location</th>\n",
       "    </tr>\n",
       "  </thead>\n",
       "  <tbody>\n",
       "    <tr>\n",
       "      <th>0</th>\n",
       "      <td>10/1/2012 13:00</td>\n",
       "      <td>0</td>\n",
       "      <td>0</td>\n",
       "      <td>mist</td>\n",
       "      <td>291.870000</td>\n",
       "      <td>1013.0</td>\n",
       "      <td>88.0</td>\n",
       "      <td>Los Angeles</td>\n",
       "    </tr>\n",
       "    <tr>\n",
       "      <th>1</th>\n",
       "      <td>10/1/2012 14:00</td>\n",
       "      <td>0</td>\n",
       "      <td>0</td>\n",
       "      <td>sky is clear</td>\n",
       "      <td>291.868185</td>\n",
       "      <td>1013.0</td>\n",
       "      <td>88.0</td>\n",
       "      <td>Los Angeles</td>\n",
       "    </tr>\n",
       "    <tr>\n",
       "      <th>2</th>\n",
       "      <td>10/1/2012 15:00</td>\n",
       "      <td>0</td>\n",
       "      <td>0</td>\n",
       "      <td>sky is clear</td>\n",
       "      <td>291.862844</td>\n",
       "      <td>1013.0</td>\n",
       "      <td>88.0</td>\n",
       "      <td>Los Angeles</td>\n",
       "    </tr>\n",
       "    <tr>\n",
       "      <th>3</th>\n",
       "      <td>10/1/2012 16:00</td>\n",
       "      <td>0</td>\n",
       "      <td>0</td>\n",
       "      <td>sky is clear</td>\n",
       "      <td>291.857503</td>\n",
       "      <td>1013.0</td>\n",
       "      <td>88.0</td>\n",
       "      <td>Los Angeles</td>\n",
       "    </tr>\n",
       "    <tr>\n",
       "      <th>4</th>\n",
       "      <td>10/1/2012 17:00</td>\n",
       "      <td>0</td>\n",
       "      <td>0</td>\n",
       "      <td>sky is clear</td>\n",
       "      <td>291.852162</td>\n",
       "      <td>1013.0</td>\n",
       "      <td>88.0</td>\n",
       "      <td>Los Angeles</td>\n",
       "    </tr>\n",
       "  </tbody>\n",
       "</table>\n",
       "</div>"
      ],
      "text/plain": [
       "          datetime  speed  direction   description  temperatures  pressures  \\\n",
       "0  10/1/2012 13:00      0          0          mist    291.870000     1013.0   \n",
       "1  10/1/2012 14:00      0          0  sky is clear    291.868185     1013.0   \n",
       "2  10/1/2012 15:00      0          0  sky is clear    291.862844     1013.0   \n",
       "3  10/1/2012 16:00      0          0  sky is clear    291.857503     1013.0   \n",
       "4  10/1/2012 17:00      0          0  sky is clear    291.852162     1013.0   \n",
       "\n",
       "   humidities     location  \n",
       "0        88.0  Los Angeles  \n",
       "1        88.0  Los Angeles  \n",
       "2        88.0  Los Angeles  \n",
       "3        88.0  Los Angeles  \n",
       "4        88.0  Los Angeles  "
      ]
     },
     "metadata": {},
     "output_type": "display_data"
    },
    {
     "data": {
      "text/plain": [
       "datetime        0\n",
       "speed           0\n",
       "direction       0\n",
       "description     0\n",
       "temperatures    0\n",
       "pressures       0\n",
       "humidities      0\n",
       "location        0\n",
       "dtype: int64"
      ]
     },
     "metadata": {},
     "output_type": "display_data"
    },
    {
     "data": {
      "text/plain": [
       "0"
      ]
     },
     "metadata": {},
     "output_type": "display_data"
    },
    {
     "data": {
      "text/plain": [
       "datetime        10955\n",
       "speed              11\n",
       "direction         361\n",
       "description        18\n",
       "temperatures     3647\n",
       "pressures          58\n",
       "humidities         96\n",
       "location            1\n",
       "dtype: int64"
      ]
     },
     "metadata": {},
     "output_type": "display_data"
    }
   ],
   "source": [
    "# Groupby location LA\n",
    "wind_speed_LA = wind_speeds[['datetime', 'Los Angeles']]\n",
    "wind_speed_LA.columns = ['datetime', 'speed']\n",
    "\n",
    "wind_direction_LA = wind_directions[['datetime', 'Los Angeles']]\n",
    "wind_direction_LA.columns = ['datetime', 'direction']\n",
    "\n",
    "Weather_Description_LA = Weather_Description[['datetime', 'Los Angeles']]\n",
    "Weather_Description_LA.columns = ['datetime', 'description']\n",
    "\n",
    "temperatures_LA = temperatures[['datetime', 'Los Angeles']]\n",
    "temperatures_LA.columns = ['datetime', 'temperatures']\n",
    "\n",
    "pressures_LA = pressures[['datetime', 'Los Angeles']]\n",
    "pressures_LA.columns = ['datetime', 'pressures']\n",
    "\n",
    "humidities_LA = humidities[['datetime', 'Los Angeles']]\n",
    "humidities_LA.columns = ['datetime', 'humidities']\n",
    "\n",
    "Losangeles1 = pd.merge(wind_speed_LA, wind_direction_LA, left_on = \"datetime\", right_on = \"datetime\", how = 'left')\n",
    "Losangeles2 = pd.merge(Losangeles1, Weather_Description_LA, left_on = \"datetime\", right_on = \"datetime\", how = 'left')\n",
    "Losangeles3 = pd.merge(Losangeles2, temperatures_LA, left_on = \"datetime\", right_on = \"datetime\", how = 'left')\n",
    "Losangeles4 = pd.merge(Losangeles3, pressures_LA, left_on = \"datetime\", right_on = \"datetime\", how = 'left')\n",
    "Losangeles = pd.merge(Losangeles4, humidities_LA, left_on = \"datetime\", right_on = \"datetime\", how = 'left')\n",
    "\n",
    "Losangeles['location'] = 'Los Angeles'\n",
    "\n",
    "# Fillin the NA using interpolate, which uses the previous data to fill in NA(pressure 259/10955, humidities 217/10955)\n",
    "Losangeles = Losangeles.interpolate('ffill', limit_direction='forward')\n",
    "\n",
    "display(Losangeles.shape)\n",
    "display(Losangeles.head())\n",
    "\n",
    "display(Losangeles.isnull().sum())\n",
    "display(Losangeles.duplicated().sum())\n",
    "display(Losangeles.nunique())"
   ]
  },
  {
   "cell_type": "markdown",
   "id": "42225c7e-e947-4e9f-8232-d0c18bb5e193",
   "metadata": {
    "id": "42225c7e-e947-4e9f-8232-d0c18bb5e193"
   },
   "source": [
    "### 2. Denver"
   ]
  },
  {
   "cell_type": "code",
   "execution_count": 11,
   "id": "1744670c-7a78-4c91-9cc1-a912d3739782",
   "metadata": {
    "colab": {
     "base_uri": "https://localhost:8080/",
     "height": 0
    },
    "id": "1744670c-7a78-4c91-9cc1-a912d3739782",
    "outputId": "50602b49-69cb-4732-b969-c15da894f70a"
   },
   "outputs": [
    {
     "data": {
      "text/plain": [
       "(10955, 8)"
      ]
     },
     "metadata": {},
     "output_type": "display_data"
    },
    {
     "data": {
      "text/html": [
       "<div>\n",
       "<style scoped>\n",
       "    .dataframe tbody tr th:only-of-type {\n",
       "        vertical-align: middle;\n",
       "    }\n",
       "\n",
       "    .dataframe tbody tr th {\n",
       "        vertical-align: top;\n",
       "    }\n",
       "\n",
       "    .dataframe thead th {\n",
       "        text-align: right;\n",
       "    }\n",
       "</style>\n",
       "<table border=\"1\" class=\"dataframe\">\n",
       "  <thead>\n",
       "    <tr style=\"text-align: right;\">\n",
       "      <th></th>\n",
       "      <th>datetime</th>\n",
       "      <th>speed</th>\n",
       "      <th>direction</th>\n",
       "      <th>description</th>\n",
       "      <th>temperatures</th>\n",
       "      <th>pressures</th>\n",
       "      <th>humidities</th>\n",
       "      <th>location</th>\n",
       "    </tr>\n",
       "  </thead>\n",
       "  <tbody>\n",
       "    <tr>\n",
       "      <th>0</th>\n",
       "      <td>10/1/2012 13:00</td>\n",
       "      <td>0</td>\n",
       "      <td>20</td>\n",
       "      <td>light rain</td>\n",
       "      <td>284.610000</td>\n",
       "      <td>1028.0</td>\n",
       "      <td>62.0</td>\n",
       "      <td>Denver</td>\n",
       "    </tr>\n",
       "    <tr>\n",
       "      <th>1</th>\n",
       "      <td>10/1/2012 14:00</td>\n",
       "      <td>0</td>\n",
       "      <td>22</td>\n",
       "      <td>broken clouds</td>\n",
       "      <td>284.607305</td>\n",
       "      <td>1028.0</td>\n",
       "      <td>62.0</td>\n",
       "      <td>Denver</td>\n",
       "    </tr>\n",
       "    <tr>\n",
       "      <th>2</th>\n",
       "      <td>10/1/2012 15:00</td>\n",
       "      <td>0</td>\n",
       "      <td>31</td>\n",
       "      <td>broken clouds</td>\n",
       "      <td>284.599918</td>\n",
       "      <td>1028.0</td>\n",
       "      <td>62.0</td>\n",
       "      <td>Denver</td>\n",
       "    </tr>\n",
       "    <tr>\n",
       "      <th>3</th>\n",
       "      <td>10/1/2012 16:00</td>\n",
       "      <td>0</td>\n",
       "      <td>39</td>\n",
       "      <td>broken clouds</td>\n",
       "      <td>284.592530</td>\n",
       "      <td>1028.0</td>\n",
       "      <td>62.0</td>\n",
       "      <td>Denver</td>\n",
       "    </tr>\n",
       "    <tr>\n",
       "      <th>4</th>\n",
       "      <td>10/1/2012 17:00</td>\n",
       "      <td>0</td>\n",
       "      <td>47</td>\n",
       "      <td>broken clouds</td>\n",
       "      <td>284.585142</td>\n",
       "      <td>1028.0</td>\n",
       "      <td>63.0</td>\n",
       "      <td>Denver</td>\n",
       "    </tr>\n",
       "  </tbody>\n",
       "</table>\n",
       "</div>"
      ],
      "text/plain": [
       "          datetime  speed  direction    description  temperatures  pressures  \\\n",
       "0  10/1/2012 13:00      0         20     light rain    284.610000     1028.0   \n",
       "1  10/1/2012 14:00      0         22  broken clouds    284.607305     1028.0   \n",
       "2  10/1/2012 15:00      0         31  broken clouds    284.599918     1028.0   \n",
       "3  10/1/2012 16:00      0         39  broken clouds    284.592530     1028.0   \n",
       "4  10/1/2012 17:00      0         47  broken clouds    284.585142     1028.0   \n",
       "\n",
       "   humidities location  \n",
       "0        62.0   Denver  \n",
       "1        62.0   Denver  \n",
       "2        62.0   Denver  \n",
       "3        62.0   Denver  \n",
       "4        63.0   Denver  "
      ]
     },
     "metadata": {},
     "output_type": "display_data"
    },
    {
     "data": {
      "text/plain": [
       "datetime        0\n",
       "speed           0\n",
       "direction       0\n",
       "description     0\n",
       "temperatures    0\n",
       "pressures       0\n",
       "humidities      0\n",
       "location        0\n",
       "dtype: int64"
      ]
     },
     "metadata": {},
     "output_type": "display_data"
    },
    {
     "data": {
      "text/plain": [
       "0"
      ]
     },
     "metadata": {},
     "output_type": "display_data"
    },
    {
     "data": {
      "text/plain": [
       "datetime        10955\n",
       "speed              11\n",
       "direction         359\n",
       "description        27\n",
       "temperatures     5073\n",
       "pressures         170\n",
       "humidities         96\n",
       "location            1\n",
       "dtype: int64"
      ]
     },
     "metadata": {},
     "output_type": "display_data"
    }
   ],
   "source": [
    "# Groupby location Denver\n",
    "\n",
    "wind_speed_Denver = wind_speeds[['datetime', 'Denver']]\n",
    "wind_speed_Denver.columns = ['datetime', 'speed']\n",
    "\n",
    "wind_direction_Denver = wind_directions[['datetime', 'Denver']]\n",
    "wind_direction_Denver.columns = ['datetime', 'direction']\n",
    "\n",
    "Weather_Description_Denver = Weather_Description[['datetime', 'Denver']]\n",
    "Weather_Description_Denver.columns = ['datetime', 'description']\n",
    "\n",
    "temperatures_Denver = temperatures[['datetime', 'Denver']]\n",
    "temperatures_Denver.columns = ['datetime', 'temperatures']\n",
    "\n",
    "pressures_Denver = pressures[['datetime', 'Denver']]\n",
    "pressures_Denver.columns = ['datetime', 'pressures']\n",
    "\n",
    "humidities_Denver = humidities[['datetime', 'Denver']]\n",
    "humidities_Denver.columns = ['datetime', 'humidities']\n",
    "\n",
    "Denver1 = pd.merge(wind_speed_LA, wind_direction_Denver, left_on = \"datetime\", right_on = \"datetime\", how = 'left')\n",
    "Denver2 = pd.merge(Denver1, Weather_Description_Denver, left_on = \"datetime\", right_on = \"datetime\", how = 'left')\n",
    "Denver3 = pd.merge(Denver2, temperatures_Denver, left_on = \"datetime\", right_on = \"datetime\", how = 'left')\n",
    "Denver4 = pd.merge(Denver3, pressures_Denver, left_on = \"datetime\", right_on = \"datetime\", how = 'left')\n",
    "Denver = pd.merge(Denver4, humidities_Denver, left_on = \"datetime\", right_on = \"datetime\", how = 'left')\n",
    "\n",
    "Denver['location'] = 'Denver'\n",
    "\n",
    "# Fillin the NA using interpolate, which uses the previous data to fill in NA(pressure 451/10955, humidities 1672/10955)\n",
    "Denver = Denver.interpolate('ffill', limit_direction='forward')\n",
    "\n",
    "display(Denver.shape)\n",
    "display(Denver.head())\n",
    "\n",
    "display(Denver.isnull().sum())\n",
    "display(Denver.duplicated().sum())\n",
    "display(Denver.nunique())"
   ]
  },
  {
   "cell_type": "markdown",
   "id": "e15a48cf-6943-420a-9835-914ce48b9a68",
   "metadata": {
    "id": "e15a48cf-6943-420a-9835-914ce48b9a68"
   },
   "source": [
    "### 3. Atlanta"
   ]
  },
  {
   "cell_type": "code",
   "execution_count": 12,
   "id": "41f7fbfb-9f42-4538-8bce-266a0368267e",
   "metadata": {
    "colab": {
     "base_uri": "https://localhost:8080/",
     "height": 0
    },
    "id": "41f7fbfb-9f42-4538-8bce-266a0368267e",
    "outputId": "2a215617-597e-4a4b-81c2-01946f1d6ef4"
   },
   "outputs": [
    {
     "data": {
      "text/plain": [
       "(10955, 8)"
      ]
     },
     "metadata": {},
     "output_type": "display_data"
    },
    {
     "data": {
      "text/html": [
       "<div>\n",
       "<style scoped>\n",
       "    .dataframe tbody tr th:only-of-type {\n",
       "        vertical-align: middle;\n",
       "    }\n",
       "\n",
       "    .dataframe tbody tr th {\n",
       "        vertical-align: top;\n",
       "    }\n",
       "\n",
       "    .dataframe thead th {\n",
       "        text-align: right;\n",
       "    }\n",
       "</style>\n",
       "<table border=\"1\" class=\"dataframe\">\n",
       "  <thead>\n",
       "    <tr style=\"text-align: right;\">\n",
       "      <th></th>\n",
       "      <th>datetime</th>\n",
       "      <th>speed</th>\n",
       "      <th>direction</th>\n",
       "      <th>description</th>\n",
       "      <th>temperatures</th>\n",
       "      <th>pressures</th>\n",
       "      <th>humidities</th>\n",
       "      <th>location</th>\n",
       "    </tr>\n",
       "  </thead>\n",
       "  <tbody>\n",
       "    <tr>\n",
       "      <th>0</th>\n",
       "      <td>10/1/2012 13:00</td>\n",
       "      <td>3</td>\n",
       "      <td>110</td>\n",
       "      <td>light rain</td>\n",
       "      <td>294.030000</td>\n",
       "      <td>1006.0</td>\n",
       "      <td>94.0</td>\n",
       "      <td>Atlanta</td>\n",
       "    </tr>\n",
       "    <tr>\n",
       "      <th>1</th>\n",
       "      <td>10/1/2012 14:00</td>\n",
       "      <td>3</td>\n",
       "      <td>110</td>\n",
       "      <td>overcast clouds</td>\n",
       "      <td>294.035341</td>\n",
       "      <td>1006.0</td>\n",
       "      <td>94.0</td>\n",
       "      <td>Atlanta</td>\n",
       "    </tr>\n",
       "    <tr>\n",
       "      <th>2</th>\n",
       "      <td>10/1/2012 15:00</td>\n",
       "      <td>3</td>\n",
       "      <td>111</td>\n",
       "      <td>overcast clouds</td>\n",
       "      <td>294.049702</td>\n",
       "      <td>1006.0</td>\n",
       "      <td>94.0</td>\n",
       "      <td>Atlanta</td>\n",
       "    </tr>\n",
       "    <tr>\n",
       "      <th>3</th>\n",
       "      <td>10/1/2012 16:00</td>\n",
       "      <td>3</td>\n",
       "      <td>111</td>\n",
       "      <td>overcast clouds</td>\n",
       "      <td>294.064063</td>\n",
       "      <td>1006.0</td>\n",
       "      <td>94.0</td>\n",
       "      <td>Atlanta</td>\n",
       "    </tr>\n",
       "    <tr>\n",
       "      <th>4</th>\n",
       "      <td>10/1/2012 17:00</td>\n",
       "      <td>3</td>\n",
       "      <td>112</td>\n",
       "      <td>overcast clouds</td>\n",
       "      <td>294.078424</td>\n",
       "      <td>1006.0</td>\n",
       "      <td>94.0</td>\n",
       "      <td>Atlanta</td>\n",
       "    </tr>\n",
       "  </tbody>\n",
       "</table>\n",
       "</div>"
      ],
      "text/plain": [
       "          datetime  speed  direction      description  temperatures  \\\n",
       "0  10/1/2012 13:00      3        110       light rain    294.030000   \n",
       "1  10/1/2012 14:00      3        110  overcast clouds    294.035341   \n",
       "2  10/1/2012 15:00      3        111  overcast clouds    294.049702   \n",
       "3  10/1/2012 16:00      3        111  overcast clouds    294.064063   \n",
       "4  10/1/2012 17:00      3        112  overcast clouds    294.078424   \n",
       "\n",
       "   pressures  humidities location  \n",
       "0     1006.0        94.0  Atlanta  \n",
       "1     1006.0        94.0  Atlanta  \n",
       "2     1006.0        94.0  Atlanta  \n",
       "3     1006.0        94.0  Atlanta  \n",
       "4     1006.0        94.0  Atlanta  "
      ]
     },
     "metadata": {},
     "output_type": "display_data"
    },
    {
     "data": {
      "text/plain": [
       "datetime        0\n",
       "speed           0\n",
       "direction       0\n",
       "description     0\n",
       "temperatures    0\n",
       "pressures       0\n",
       "humidities      0\n",
       "location        0\n",
       "dtype: int64"
      ]
     },
     "metadata": {},
     "output_type": "display_data"
    },
    {
     "data": {
      "text/plain": [
       "0"
      ]
     },
     "metadata": {},
     "output_type": "display_data"
    },
    {
     "data": {
      "text/plain": [
       "datetime        10955\n",
       "speed              13\n",
       "direction         353\n",
       "description        26\n",
       "temperatures     4284\n",
       "pressures          58\n",
       "humidities         89\n",
       "location            1\n",
       "dtype: int64"
      ]
     },
     "metadata": {},
     "output_type": "display_data"
    }
   ],
   "source": [
    "# Groupby location Atlanta\n",
    "\n",
    "wind_speed_Atlanta = wind_speeds[['datetime', 'Atlanta']]\n",
    "wind_speed_Atlanta.columns = ['datetime', 'speed']\n",
    "\n",
    "wind_direction_Atlanta = wind_directions[['datetime', 'Atlanta']]\n",
    "wind_direction_Atlanta.columns = ['datetime', 'direction']\n",
    "\n",
    "Weather_Description_Atlanta = Weather_Description[['datetime', 'Atlanta']]\n",
    "Weather_Description_Atlanta.columns = ['datetime', 'description']\n",
    "\n",
    "temperatures_Atlanta = temperatures[['datetime', 'Atlanta']]\n",
    "temperatures_Atlanta.columns = ['datetime', 'temperatures']\n",
    "\n",
    "pressures_Atlanta = pressures[['datetime', 'Atlanta']]\n",
    "pressures_Atlanta.columns = ['datetime', 'pressures']\n",
    "\n",
    "humidities_Atlanta = humidities[['datetime', 'Atlanta']]\n",
    "humidities_Atlanta.columns = ['datetime', 'humidities']\n",
    "\n",
    "Atlanta1 = pd.merge(wind_speed_Atlanta, wind_direction_Atlanta, left_on = \"datetime\", right_on = \"datetime\", how = 'left')\n",
    "Atlanta2 = pd.merge(Atlanta1, Weather_Description_Atlanta, left_on = \"datetime\", right_on = \"datetime\", how = 'left')\n",
    "Atlanta3 = pd.merge(Atlanta2, temperatures_Atlanta, left_on = \"datetime\", right_on = \"datetime\", how = 'left')\n",
    "Atlanta4 = pd.merge(Atlanta3, pressures_Atlanta, left_on = \"datetime\", right_on = \"datetime\", how = 'left')\n",
    "Atlanta = pd.merge(Atlanta4, humidities_Atlanta, left_on = \"datetime\", right_on = \"datetime\", how = 'left')\n",
    "\n",
    "Atlanta['location'] = 'Atlanta'\n",
    "\n",
    "# Fillin the NA using interpolate, which uses the previous data to fill in NA(pressure 57/10955, humidities 356/10955)\n",
    "Atlanta = Atlanta.interpolate('ffill', limit_direction='forward')\n",
    "\n",
    "display(Atlanta.shape)\n",
    "display(Atlanta.head())\n",
    "\n",
    "display(Atlanta.isnull().sum())\n",
    "display(Atlanta.duplicated().sum())\n",
    "display(Atlanta.nunique())"
   ]
  },
  {
   "cell_type": "markdown",
   "id": "dc079cec-df82-4f3c-9f4b-63278a5ce229",
   "metadata": {
    "id": "dc079cec-df82-4f3c-9f4b-63278a5ce229"
   },
   "source": [
    "### 4. Jacksonville"
   ]
  },
  {
   "cell_type": "code",
   "execution_count": 13,
   "id": "cf147d1e-4974-413e-9ec8-799869a876d5",
   "metadata": {
    "colab": {
     "base_uri": "https://localhost:8080/",
     "height": 0
    },
    "id": "cf147d1e-4974-413e-9ec8-799869a876d5",
    "outputId": "987b77bd-8048-4d5e-b910-9d0e323226ba"
   },
   "outputs": [
    {
     "data": {
      "text/plain": [
       "(10955, 8)"
      ]
     },
     "metadata": {},
     "output_type": "display_data"
    },
    {
     "data": {
      "text/html": [
       "<div>\n",
       "<style scoped>\n",
       "    .dataframe tbody tr th:only-of-type {\n",
       "        vertical-align: middle;\n",
       "    }\n",
       "\n",
       "    .dataframe tbody tr th {\n",
       "        vertical-align: top;\n",
       "    }\n",
       "\n",
       "    .dataframe thead th {\n",
       "        text-align: right;\n",
       "    }\n",
       "</style>\n",
       "<table border=\"1\" class=\"dataframe\">\n",
       "  <thead>\n",
       "    <tr style=\"text-align: right;\">\n",
       "      <th></th>\n",
       "      <th>datetime</th>\n",
       "      <th>speed</th>\n",
       "      <th>direction</th>\n",
       "      <th>description</th>\n",
       "      <th>temperatures</th>\n",
       "      <th>pressures</th>\n",
       "      <th>humidities</th>\n",
       "      <th>location</th>\n",
       "    </tr>\n",
       "  </thead>\n",
       "  <tbody>\n",
       "    <tr>\n",
       "      <th>0</th>\n",
       "      <td>10/1/2012 13:00</td>\n",
       "      <td>3</td>\n",
       "      <td>180.0</td>\n",
       "      <td>scattered clouds</td>\n",
       "      <td>298.170000</td>\n",
       "      <td>1009.0</td>\n",
       "      <td>88.0</td>\n",
       "      <td>Jacksonville</td>\n",
       "    </tr>\n",
       "    <tr>\n",
       "      <th>1</th>\n",
       "      <td>10/1/2012 14:00</td>\n",
       "      <td>3</td>\n",
       "      <td>180.0</td>\n",
       "      <td>scattered clouds</td>\n",
       "      <td>298.205230</td>\n",
       "      <td>1009.0</td>\n",
       "      <td>87.0</td>\n",
       "      <td>Jacksonville</td>\n",
       "    </tr>\n",
       "    <tr>\n",
       "      <th>2</th>\n",
       "      <td>10/1/2012 15:00</td>\n",
       "      <td>3</td>\n",
       "      <td>180.0</td>\n",
       "      <td>scattered clouds</td>\n",
       "      <td>298.299595</td>\n",
       "      <td>1009.0</td>\n",
       "      <td>87.0</td>\n",
       "      <td>Jacksonville</td>\n",
       "    </tr>\n",
       "    <tr>\n",
       "      <th>3</th>\n",
       "      <td>10/1/2012 16:00</td>\n",
       "      <td>3</td>\n",
       "      <td>180.0</td>\n",
       "      <td>scattered clouds</td>\n",
       "      <td>298.393961</td>\n",
       "      <td>1009.0</td>\n",
       "      <td>87.0</td>\n",
       "      <td>Jacksonville</td>\n",
       "    </tr>\n",
       "    <tr>\n",
       "      <th>4</th>\n",
       "      <td>10/1/2012 17:00</td>\n",
       "      <td>3</td>\n",
       "      <td>180.0</td>\n",
       "      <td>scattered clouds</td>\n",
       "      <td>298.488326</td>\n",
       "      <td>1009.0</td>\n",
       "      <td>86.0</td>\n",
       "      <td>Jacksonville</td>\n",
       "    </tr>\n",
       "  </tbody>\n",
       "</table>\n",
       "</div>"
      ],
      "text/plain": [
       "          datetime  speed  direction       description  temperatures  \\\n",
       "0  10/1/2012 13:00      3      180.0  scattered clouds    298.170000   \n",
       "1  10/1/2012 14:00      3      180.0  scattered clouds    298.205230   \n",
       "2  10/1/2012 15:00      3      180.0  scattered clouds    298.299595   \n",
       "3  10/1/2012 16:00      3      180.0  scattered clouds    298.393961   \n",
       "4  10/1/2012 17:00      3      180.0  scattered clouds    298.488326   \n",
       "\n",
       "   pressures  humidities      location  \n",
       "0     1009.0        88.0  Jacksonville  \n",
       "1     1009.0        87.0  Jacksonville  \n",
       "2     1009.0        87.0  Jacksonville  \n",
       "3     1009.0        87.0  Jacksonville  \n",
       "4     1009.0        86.0  Jacksonville  "
      ]
     },
     "metadata": {},
     "output_type": "display_data"
    },
    {
     "data": {
      "text/plain": [
       "datetime        0\n",
       "speed           0\n",
       "direction       0\n",
       "description     0\n",
       "temperatures    0\n",
       "pressures       0\n",
       "humidities      0\n",
       "location        0\n",
       "dtype: int64"
      ]
     },
     "metadata": {},
     "output_type": "display_data"
    },
    {
     "data": {
      "text/plain": [
       "0"
      ]
     },
     "metadata": {},
     "output_type": "display_data"
    },
    {
     "data": {
      "text/plain": [
       "datetime        10955\n",
       "speed              14\n",
       "direction         357\n",
       "description        19\n",
       "temperatures     3846\n",
       "pressures          45\n",
       "humidities         88\n",
       "location            1\n",
       "dtype: int64"
      ]
     },
     "metadata": {},
     "output_type": "display_data"
    }
   ],
   "source": [
    "# Groupby location Jacksonville\n",
    "\n",
    "wind_speed_Jacksonville = wind_speeds[['datetime', 'Jacksonville']]\n",
    "wind_speed_Jacksonville.columns = ['datetime', 'speed']\n",
    "\n",
    "wind_direction_Jacksonville = wind_directions[['datetime', 'Jacksonville']]\n",
    "wind_direction_Jacksonville.columns = ['datetime', 'direction']\n",
    "\n",
    "Weather_Description_Jacksonville = Weather_Description[['datetime', 'Jacksonville']]\n",
    "Weather_Description_Jacksonville.columns = ['datetime', 'description']\n",
    "\n",
    "temperatures_Jacksonville = temperatures[['datetime', 'Jacksonville']]\n",
    "temperatures_Jacksonville.columns = ['datetime', 'temperatures']\n",
    "\n",
    "pressures_Jacksonville = pressures[['datetime', 'Jacksonville']]\n",
    "pressures_Jacksonville.columns = ['datetime', 'pressures']\n",
    "\n",
    "humidities_Jacksonville = humidities[['datetime', 'Jacksonville']]\n",
    "humidities_Jacksonville.columns = ['datetime', 'humidities']\n",
    "\n",
    "Jacksonville1 = pd.merge(wind_speed_Jacksonville, wind_direction_Jacksonville, left_on = \"datetime\", right_on = \"datetime\", how = 'left')\n",
    "Jacksonville2 = pd.merge(Jacksonville1, Weather_Description_Jacksonville, left_on = \"datetime\", right_on = \"datetime\", how = 'left')\n",
    "Jacksonville3 = pd.merge(Jacksonville2, temperatures_Jacksonville, left_on = \"datetime\", right_on = \"datetime\", how = 'left')\n",
    "Jacksonville4 = pd.merge(Jacksonville3, pressures_Jacksonville, left_on = \"datetime\", right_on = \"datetime\", how = 'left')\n",
    "Jacksonville = pd.merge(Jacksonville4, humidities_Jacksonville, left_on = \"datetime\", right_on = \"datetime\", how = 'left')\n",
    "\n",
    "Jacksonville['location'] = 'Jacksonville'\n",
    "\n",
    "# Fillin the NA using interpolate, which uses the previous data to fill in NA(pressure 24/10955, humidities 297/10955)\n",
    "Jacksonville = Jacksonville.interpolate('ffill', limit_direction='forward')\n",
    "\n",
    "display(Jacksonville.shape)\n",
    "display(Jacksonville.head())\n",
    "\n",
    "display(Jacksonville.isnull().sum())\n",
    "display(Jacksonville.duplicated().sum())\n",
    "display(Jacksonville.nunique())"
   ]
  },
  {
   "cell_type": "markdown",
   "id": "e5dc3a1c-82a6-4257-956f-1e0367cb3546",
   "metadata": {
    "id": "e5dc3a1c-82a6-4257-956f-1e0367cb3546"
   },
   "source": [
    "### 5. Miami"
   ]
  },
  {
   "cell_type": "code",
   "execution_count": 14,
   "id": "bc85f11b-98df-4a43-99ad-35faa34c114e",
   "metadata": {
    "colab": {
     "base_uri": "https://localhost:8080/",
     "height": 0
    },
    "id": "bc85f11b-98df-4a43-99ad-35faa34c114e",
    "outputId": "373f966b-1b39-488f-e3d4-646293d76c2e"
   },
   "outputs": [
    {
     "data": {
      "text/plain": [
       "(10955, 8)"
      ]
     },
     "metadata": {},
     "output_type": "display_data"
    },
    {
     "data": {
      "text/html": [
       "<div>\n",
       "<style scoped>\n",
       "    .dataframe tbody tr th:only-of-type {\n",
       "        vertical-align: middle;\n",
       "    }\n",
       "\n",
       "    .dataframe tbody tr th {\n",
       "        vertical-align: top;\n",
       "    }\n",
       "\n",
       "    .dataframe thead th {\n",
       "        text-align: right;\n",
       "    }\n",
       "</style>\n",
       "<table border=\"1\" class=\"dataframe\">\n",
       "  <thead>\n",
       "    <tr style=\"text-align: right;\">\n",
       "      <th></th>\n",
       "      <th>datetime</th>\n",
       "      <th>speed</th>\n",
       "      <th>direction</th>\n",
       "      <th>description</th>\n",
       "      <th>temperatures</th>\n",
       "      <th>pressures</th>\n",
       "      <th>humidities</th>\n",
       "      <th>location</th>\n",
       "    </tr>\n",
       "  </thead>\n",
       "  <tbody>\n",
       "    <tr>\n",
       "      <th>0</th>\n",
       "      <td>10/1/2012 13:00</td>\n",
       "      <td>3</td>\n",
       "      <td>200</td>\n",
       "      <td>light intensity drizzle</td>\n",
       "      <td>299.720000</td>\n",
       "      <td>1011.0</td>\n",
       "      <td>83.0</td>\n",
       "      <td>Miami</td>\n",
       "    </tr>\n",
       "    <tr>\n",
       "      <th>1</th>\n",
       "      <td>10/1/2012 14:00</td>\n",
       "      <td>3</td>\n",
       "      <td>200</td>\n",
       "      <td>broken clouds</td>\n",
       "      <td>299.732518</td>\n",
       "      <td>1011.0</td>\n",
       "      <td>82.0</td>\n",
       "      <td>Miami</td>\n",
       "    </tr>\n",
       "    <tr>\n",
       "      <th>2</th>\n",
       "      <td>10/1/2012 15:00</td>\n",
       "      <td>3</td>\n",
       "      <td>200</td>\n",
       "      <td>broken clouds</td>\n",
       "      <td>299.766579</td>\n",
       "      <td>1011.0</td>\n",
       "      <td>82.0</td>\n",
       "      <td>Miami</td>\n",
       "    </tr>\n",
       "    <tr>\n",
       "      <th>3</th>\n",
       "      <td>10/1/2012 16:00</td>\n",
       "      <td>3</td>\n",
       "      <td>200</td>\n",
       "      <td>broken clouds</td>\n",
       "      <td>299.800641</td>\n",
       "      <td>1011.0</td>\n",
       "      <td>82.0</td>\n",
       "      <td>Miami</td>\n",
       "    </tr>\n",
       "    <tr>\n",
       "      <th>4</th>\n",
       "      <td>10/1/2012 17:00</td>\n",
       "      <td>3</td>\n",
       "      <td>200</td>\n",
       "      <td>broken clouds</td>\n",
       "      <td>299.834703</td>\n",
       "      <td>1011.0</td>\n",
       "      <td>81.0</td>\n",
       "      <td>Miami</td>\n",
       "    </tr>\n",
       "  </tbody>\n",
       "</table>\n",
       "</div>"
      ],
      "text/plain": [
       "          datetime  speed  direction              description  temperatures  \\\n",
       "0  10/1/2012 13:00      3        200  light intensity drizzle    299.720000   \n",
       "1  10/1/2012 14:00      3        200            broken clouds    299.732518   \n",
       "2  10/1/2012 15:00      3        200            broken clouds    299.766579   \n",
       "3  10/1/2012 16:00      3        200            broken clouds    299.800641   \n",
       "4  10/1/2012 17:00      3        200            broken clouds    299.834703   \n",
       "\n",
       "   pressures  humidities location  \n",
       "0     1011.0        83.0    Miami  \n",
       "1     1011.0        82.0    Miami  \n",
       "2     1011.0        82.0    Miami  \n",
       "3     1011.0        82.0    Miami  \n",
       "4     1011.0        81.0    Miami  "
      ]
     },
     "metadata": {},
     "output_type": "display_data"
    },
    {
     "data": {
      "text/plain": [
       "datetime        0\n",
       "speed           0\n",
       "direction       0\n",
       "description     0\n",
       "temperatures    0\n",
       "pressures       0\n",
       "humidities      0\n",
       "location        0\n",
       "dtype: int64"
      ]
     },
     "metadata": {},
     "output_type": "display_data"
    },
    {
     "data": {
      "text/plain": [
       "0"
      ]
     },
     "metadata": {},
     "output_type": "display_data"
    },
    {
     "data": {
      "text/plain": [
       "datetime        10955\n",
       "speed              13\n",
       "direction         358\n",
       "description        20\n",
       "temperatures     3189\n",
       "pressures          40\n",
       "humidities         84\n",
       "location            1\n",
       "dtype: int64"
      ]
     },
     "metadata": {},
     "output_type": "display_data"
    }
   ],
   "source": [
    "# Groupby location Miami\n",
    "\n",
    "wind_speed_Miami = wind_speeds[['datetime', 'Miami']]\n",
    "wind_speed_Miami.columns = ['datetime', 'speed']\n",
    "\n",
    "wind_direction_Miami = wind_directions[['datetime', 'Miami']]\n",
    "wind_direction_Miami.columns = ['datetime', 'direction']\n",
    "\n",
    "Weather_Description_Miami = Weather_Description[['datetime', 'Miami']]\n",
    "Weather_Description_Miami.columns = ['datetime', 'description']\n",
    "\n",
    "temperatures_Miami = temperatures[['datetime', 'Miami']]\n",
    "temperatures_Miami.columns = ['datetime', 'temperatures']\n",
    "\n",
    "pressures_Miami = pressures[['datetime', 'Miami']]\n",
    "pressures_Miami.columns = ['datetime', 'pressures']\n",
    "\n",
    "humidities_Miami = humidities[['datetime', 'Miami']]\n",
    "humidities_Miami.columns = ['datetime', 'humidities']\n",
    "\n",
    "Miami1 = pd.merge(wind_speed_Miami, wind_direction_Miami, left_on = \"datetime\", right_on = \"datetime\", how = 'left')\n",
    "Miami2 = pd.merge(Miami1, Weather_Description_Miami, left_on = \"datetime\", right_on = \"datetime\", how = 'left')\n",
    "Miami3 = pd.merge(Miami2, temperatures_Miami, left_on = \"datetime\", right_on = \"datetime\", how = 'left')\n",
    "Miami4 = pd.merge(Miami3, pressures_Miami, left_on = \"datetime\", right_on = \"datetime\", how = 'left')\n",
    "Miami = pd.merge(Miami4, humidities_Miami, left_on = \"datetime\", right_on = \"datetime\", how = 'left')\n",
    "\n",
    "Miami['location'] = 'Miami'\n",
    "\n",
    "# Fillin the NA using interpolate, which uses the previous data to fill in NA(pressure 11/10955, humidities 254/10955)\n",
    "Miami = Miami.interpolate('ffill', limit_direction='forward')\n",
    "\n",
    "display(Miami.shape)\n",
    "display(Miami.head())\n",
    "\n",
    "display(Miami.isnull().sum())\n",
    "display(Miami.duplicated().sum())\n",
    "display(Miami.nunique())"
   ]
  },
  {
   "cell_type": "markdown",
   "id": "168802eb",
   "metadata": {
    "id": "168802eb"
   },
   "source": [
    "### 6. Merge  different locations together"
   ]
  },
  {
   "cell_type": "code",
   "execution_count": 15,
   "id": "5591298c",
   "metadata": {
    "colab": {
     "base_uri": "https://localhost:8080/",
     "height": 0
    },
    "id": "5591298c",
    "outputId": "03138d1f-8bb4-4199-9805-5d9b3d49e9ae"
   },
   "outputs": [
    {
     "data": {
      "text/html": [
       "<div>\n",
       "<style scoped>\n",
       "    .dataframe tbody tr th:only-of-type {\n",
       "        vertical-align: middle;\n",
       "    }\n",
       "\n",
       "    .dataframe tbody tr th {\n",
       "        vertical-align: top;\n",
       "    }\n",
       "\n",
       "    .dataframe thead th {\n",
       "        text-align: right;\n",
       "    }\n",
       "</style>\n",
       "<table border=\"1\" class=\"dataframe\">\n",
       "  <thead>\n",
       "    <tr style=\"text-align: right;\">\n",
       "      <th></th>\n",
       "      <th>datetime</th>\n",
       "      <th>speed</th>\n",
       "      <th>direction</th>\n",
       "      <th>description</th>\n",
       "      <th>temperatures</th>\n",
       "      <th>pressures</th>\n",
       "      <th>humidities</th>\n",
       "      <th>location</th>\n",
       "    </tr>\n",
       "  </thead>\n",
       "  <tbody>\n",
       "    <tr>\n",
       "      <th>0</th>\n",
       "      <td>2012-10-01 13:00:00</td>\n",
       "      <td>0</td>\n",
       "      <td>0.0</td>\n",
       "      <td>mist</td>\n",
       "      <td>291.870000</td>\n",
       "      <td>1013.0</td>\n",
       "      <td>88.0</td>\n",
       "      <td>Los Angeles</td>\n",
       "    </tr>\n",
       "    <tr>\n",
       "      <th>1</th>\n",
       "      <td>2012-10-01 14:00:00</td>\n",
       "      <td>0</td>\n",
       "      <td>0.0</td>\n",
       "      <td>sky is clear</td>\n",
       "      <td>291.868185</td>\n",
       "      <td>1013.0</td>\n",
       "      <td>88.0</td>\n",
       "      <td>Los Angeles</td>\n",
       "    </tr>\n",
       "    <tr>\n",
       "      <th>2</th>\n",
       "      <td>2012-10-01 15:00:00</td>\n",
       "      <td>0</td>\n",
       "      <td>0.0</td>\n",
       "      <td>sky is clear</td>\n",
       "      <td>291.862844</td>\n",
       "      <td>1013.0</td>\n",
       "      <td>88.0</td>\n",
       "      <td>Los Angeles</td>\n",
       "    </tr>\n",
       "    <tr>\n",
       "      <th>3</th>\n",
       "      <td>2012-10-01 16:00:00</td>\n",
       "      <td>0</td>\n",
       "      <td>0.0</td>\n",
       "      <td>sky is clear</td>\n",
       "      <td>291.857503</td>\n",
       "      <td>1013.0</td>\n",
       "      <td>88.0</td>\n",
       "      <td>Los Angeles</td>\n",
       "    </tr>\n",
       "    <tr>\n",
       "      <th>4</th>\n",
       "      <td>2012-10-01 17:00:00</td>\n",
       "      <td>0</td>\n",
       "      <td>0.0</td>\n",
       "      <td>sky is clear</td>\n",
       "      <td>291.852162</td>\n",
       "      <td>1013.0</td>\n",
       "      <td>88.0</td>\n",
       "      <td>Los Angeles</td>\n",
       "    </tr>\n",
       "  </tbody>\n",
       "</table>\n",
       "</div>"
      ],
      "text/plain": [
       "             datetime  speed  direction   description  temperatures  \\\n",
       "0 2012-10-01 13:00:00      0        0.0          mist    291.870000   \n",
       "1 2012-10-01 14:00:00      0        0.0  sky is clear    291.868185   \n",
       "2 2012-10-01 15:00:00      0        0.0  sky is clear    291.862844   \n",
       "3 2012-10-01 16:00:00      0        0.0  sky is clear    291.857503   \n",
       "4 2012-10-01 17:00:00      0        0.0  sky is clear    291.852162   \n",
       "\n",
       "   pressures  humidities     location  \n",
       "0     1013.0        88.0  Los Angeles  \n",
       "1     1013.0        88.0  Los Angeles  \n",
       "2     1013.0        88.0  Los Angeles  \n",
       "3     1013.0        88.0  Los Angeles  \n",
       "4     1013.0        88.0  Los Angeles  "
      ]
     },
     "metadata": {},
     "output_type": "display_data"
    },
    {
     "data": {
      "text/plain": [
       "datetime        10955\n",
       "speed              16\n",
       "direction         361\n",
       "description        31\n",
       "temperatures    10685\n",
       "pressures         177\n",
       "humidities         96\n",
       "location            5\n",
       "dtype: int64"
      ]
     },
     "metadata": {},
     "output_type": "display_data"
    }
   ],
   "source": [
    "# reset the index and drop additional index column\n",
    "dataset1 = Losangeles.append([Denver, Atlanta, Jacksonville, Miami])\n",
    "dataset2 = dataset1.reset_index()\n",
    "dataset = dataset2.drop(columns = ['index'])\n",
    "\n",
    "# change datetime to formal datetime\n",
    "dataset['datetime'] =  pd.to_datetime(dataset['datetime'])\n",
    "\n",
    "display(dataset.head())\n",
    "display(dataset.nunique())"
   ]
  },
  {
   "cell_type": "code",
   "execution_count": 16,
   "id": "A8EMWlkJoyvK",
   "metadata": {
    "colab": {
     "base_uri": "https://localhost:8080/",
     "height": 0
    },
    "id": "A8EMWlkJoyvK",
    "outputId": "1d854007-8b50-4425-9ee1-0f5e75c838d7"
   },
   "outputs": [
    {
     "data": {
      "text/plain": [
       "<AxesSubplot:>"
      ]
     },
     "execution_count": 16,
     "metadata": {},
     "output_type": "execute_result"
    },
    {
     "data": {
      "image/png": "[encoded data removed]",
      "text/plain": [
       "<Figure size 432x288 with 1 Axes>"
      ]
     },
     "metadata": {
      "needs_background": "light"
     },
     "output_type": "display_data"
    }
   ],
   "source": [
    "# draw a picture to see the values of different weather descriptions\n",
    "dataset['description'].value_counts()[:31].plot(kind='barh')"
   ]
  },
  {
   "cell_type": "code",
   "execution_count": 17,
   "id": "48d0ea24",
   "metadata": {},
   "outputs": [
    {
     "data": {
      "text/plain": [
       "<AxesSubplot:>"
      ]
     },
     "execution_count": 17,
     "metadata": {},
     "output_type": "execute_result"
    },
    {
     "data": {
      "image/png": "[encoded data removed]",
      "text/plain": [
       "<Figure size 432x288 with 1 Axes>"
      ]
     },
     "metadata": {
      "needs_background": "light"
     },
     "output_type": "display_data"
    }
   ],
   "source": [
    "dataset.boxplot()"
   ]
  },
  {
   "cell_type": "markdown",
   "id": "06571fed",
   "metadata": {
    "id": "06571fed"
   },
   "source": [
    "### 7. Add features hours and month and transfer description"
   ]
  },
  {
   "cell_type": "code",
   "execution_count": 18,
   "id": "d0b10aaf-8250-41a2-be05-778b506ec862",
   "metadata": {
    "colab": {
     "base_uri": "https://localhost:8080/",
     "height": 0
    },
    "id": "d0b10aaf-8250-41a2-be05-778b506ec862",
    "outputId": "aaae6617-e9c2-4e35-8c5f-b808877c4a73"
   },
   "outputs": [
    {
     "name": "stdout",
     "output_type": "stream",
     "text": [
      "['mist' 'sky is clear' 'fog' 'haze' 'few clouds' 'overcast clouds'\n",
      " 'scattered clouds' 'broken clouds' 'light rain' 'thunderstorm with rain'\n",
      " 'moderate rain' 'thunderstorm' 'shower rain' 'smoke' 'drizzle'\n",
      " 'light intensity drizzle' 'heavy intensity rain'\n",
      " 'light intensity shower rain' 'proximity shower rain' 'squalls'\n",
      " 'heavy snow' 'proximity thunderstorm' 'light snow' 'snow'\n",
      " 'very heavy rain' 'thunderstorm with light rain'\n",
      " 'thunderstorm with heavy rain' 'dust' 'heavy intensity drizzle'\n",
      " 'proximity thunderstorm with rain' 'thunderstorm with light drizzle']\n",
      "[13 21  4  5  3 15 19  0 11 29 14 25 20 22  1  9  7 10 16 24  8 17 12 23\n",
      " 30 28 26  2  6 18 27]\n"
     ]
    },
    {
     "data": {
      "text/html": [
       "<div>\n",
       "<style scoped>\n",
       "    .dataframe tbody tr th:only-of-type {\n",
       "        vertical-align: middle;\n",
       "    }\n",
       "\n",
       "    .dataframe tbody tr th {\n",
       "        vertical-align: top;\n",
       "    }\n",
       "\n",
       "    .dataframe thead th {\n",
       "        text-align: right;\n",
       "    }\n",
       "</style>\n",
       "<table border=\"1\" class=\"dataframe\">\n",
       "  <thead>\n",
       "    <tr style=\"text-align: right;\">\n",
       "      <th></th>\n",
       "      <th>speed</th>\n",
       "      <th>direction</th>\n",
       "      <th>description</th>\n",
       "      <th>temperatures</th>\n",
       "      <th>pressures</th>\n",
       "      <th>humidities</th>\n",
       "      <th>month</th>\n",
       "      <th>hour</th>\n",
       "      <th>new_class</th>\n",
       "      <th>location_Atlanta</th>\n",
       "      <th>location_Denver</th>\n",
       "      <th>location_Jacksonville</th>\n",
       "      <th>location_Los Angeles</th>\n",
       "      <th>location_Miami</th>\n",
       "    </tr>\n",
       "  </thead>\n",
       "  <tbody>\n",
       "    <tr>\n",
       "      <th>0</th>\n",
       "      <td>0</td>\n",
       "      <td>0.0</td>\n",
       "      <td>13</td>\n",
       "      <td>291.870000</td>\n",
       "      <td>1013.0</td>\n",
       "      <td>88.0</td>\n",
       "      <td>10</td>\n",
       "      <td>13</td>\n",
       "      <td>2</td>\n",
       "      <td>0.0</td>\n",
       "      <td>0.0</td>\n",
       "      <td>0.0</td>\n",
       "      <td>1.0</td>\n",
       "      <td>0.0</td>\n",
       "    </tr>\n",
       "    <tr>\n",
       "      <th>1</th>\n",
       "      <td>0</td>\n",
       "      <td>0.0</td>\n",
       "      <td>21</td>\n",
       "      <td>291.868185</td>\n",
       "      <td>1013.0</td>\n",
       "      <td>88.0</td>\n",
       "      <td>10</td>\n",
       "      <td>14</td>\n",
       "      <td>3</td>\n",
       "      <td>0.0</td>\n",
       "      <td>0.0</td>\n",
       "      <td>0.0</td>\n",
       "      <td>1.0</td>\n",
       "      <td>0.0</td>\n",
       "    </tr>\n",
       "    <tr>\n",
       "      <th>2</th>\n",
       "      <td>0</td>\n",
       "      <td>0.0</td>\n",
       "      <td>21</td>\n",
       "      <td>291.862844</td>\n",
       "      <td>1013.0</td>\n",
       "      <td>88.0</td>\n",
       "      <td>10</td>\n",
       "      <td>15</td>\n",
       "      <td>3</td>\n",
       "      <td>0.0</td>\n",
       "      <td>0.0</td>\n",
       "      <td>0.0</td>\n",
       "      <td>1.0</td>\n",
       "      <td>0.0</td>\n",
       "    </tr>\n",
       "    <tr>\n",
       "      <th>3</th>\n",
       "      <td>0</td>\n",
       "      <td>0.0</td>\n",
       "      <td>21</td>\n",
       "      <td>291.857503</td>\n",
       "      <td>1013.0</td>\n",
       "      <td>88.0</td>\n",
       "      <td>10</td>\n",
       "      <td>16</td>\n",
       "      <td>3</td>\n",
       "      <td>0.0</td>\n",
       "      <td>0.0</td>\n",
       "      <td>0.0</td>\n",
       "      <td>1.0</td>\n",
       "      <td>0.0</td>\n",
       "    </tr>\n",
       "    <tr>\n",
       "      <th>4</th>\n",
       "      <td>0</td>\n",
       "      <td>0.0</td>\n",
       "      <td>21</td>\n",
       "      <td>291.852162</td>\n",
       "      <td>1013.0</td>\n",
       "      <td>88.0</td>\n",
       "      <td>10</td>\n",
       "      <td>17</td>\n",
       "      <td>3</td>\n",
       "      <td>0.0</td>\n",
       "      <td>0.0</td>\n",
       "      <td>0.0</td>\n",
       "      <td>1.0</td>\n",
       "      <td>0.0</td>\n",
       "    </tr>\n",
       "  </tbody>\n",
       "</table>\n",
       "</div>"
      ],
      "text/plain": [
       "   speed  direction  description  temperatures  pressures  humidities  month  \\\n",
       "0      0        0.0           13    291.870000     1013.0        88.0     10   \n",
       "1      0        0.0           21    291.868185     1013.0        88.0     10   \n",
       "2      0        0.0           21    291.862844     1013.0        88.0     10   \n",
       "3      0        0.0           21    291.857503     1013.0        88.0     10   \n",
       "4      0        0.0           21    291.852162     1013.0        88.0     10   \n",
       "\n",
       "   hour  new_class  location_Atlanta  location_Denver  location_Jacksonville  \\\n",
       "0    13          2               0.0              0.0                    0.0   \n",
       "1    14          3               0.0              0.0                    0.0   \n",
       "2    15          3               0.0              0.0                    0.0   \n",
       "3    16          3               0.0              0.0                    0.0   \n",
       "4    17          3               0.0              0.0                    0.0   \n",
       "\n",
       "   location_Los Angeles  location_Miami  \n",
       "0                   1.0             0.0  \n",
       "1                   1.0             0.0  \n",
       "2                   1.0             0.0  \n",
       "3                   1.0             0.0  \n",
       "4                   1.0             0.0  "
      ]
     },
     "metadata": {},
     "output_type": "display_data"
    }
   ],
   "source": [
    "# add month variable and hour variable\n",
    "dataset['month'] = dataset['datetime'].dt.month\n",
    "dataset['hour'] = dataset['datetime'].dt.hour\n",
    "\n",
    "# Define new classes\n",
    "\n",
    "# cloud:few clouds, broken clouds, scattered clouds, overcast clouds\n",
    "# foggy:haze, fog, mist\n",
    "# clear: sky is clear\n",
    "# extreme:thunderstorm with light drizzle, shower rain, dust, heavy intensity drizzle, proximity thunderstorm with rain,\n",
    "#         light intensity shower rain, squalls, smoke, snow, very heavy rain, proximity shower rain,thunderstorm with heavy rain,\n",
    "#        thunderstorm with rain, drizzle, thunderstorm with light rain, heavy snow, light snow, thunderstorm, \n",
    "# rain: proximity thunderstorm, heavy intensity rain, light intensity drizzle, moderate rain, light rain\n",
    "\n",
    "conditions = [\n",
    "    (dataset['description'] .isin(['few clouds', 'broken clouds', 'scattered clouds', 'overcast clouds'])),\n",
    "    (dataset['description'] .isin(['haze', 'fog', 'mist'])),\n",
    "    (dataset['description'] .isin(['sky is clear'])),\n",
    "    (dataset['description'] .isin(['thunderstorm with light drizzle', 'shower rain', 'dust', 'heavy intensity drizzle', 'proximity thunderstorm with rain', 'light intensity shower rain', 'squalls', 'smoke', 'snow', \n",
    "                                   'very heavy rain', 'proximity shower rain', 'thunderstorm with heavy rain', 'thunderstorm with rain', 'drizzle', 'thunderstorm with light rain', 'heavy snow', 'light snow', 'thunderstorm'])),\n",
    "    (dataset['description'] .isin(['proximity thunderstorm', 'heavy intensity rain', 'light intensity drizzle', 'moderate rain', 'light rain'])),\n",
    "    ]\n",
    "# 1:cloud, 2: foggy, 3：clear, 4: extreme, 5: rain\n",
    "# create a list of the values we want to assign for each condition\n",
    "values = [1, 2, 3, 4,5]\n",
    "\n",
    "# create a new column and use np.select to assign values to it using our lists as arguments\n",
    "dataset['new_class'] = np.select(conditions, values)\n",
    "\n",
    "# display updated DataFrame\n",
    "dataset.head()\n",
    "\n",
    "\n",
    "\n",
    "\n",
    "# transfer description(catagorical) into numerical [['pressures', 'humidities']]\n",
    "a = dataset['description'].unique()\n",
    "\n",
    "from sklearn.preprocessing import LabelEncoder\n",
    "label_encoder = LabelEncoder()\n",
    "y = label_encoder.fit_transform(a)\n",
    "print(a)\n",
    "print(y)\n",
    "\n",
    "dataset['description'] = label_encoder.fit_transform(dataset['description']) \n",
    "\n",
    "\n",
    "# use one hot encoder to transfer the location into features\n",
    "from sklearn.preprocessing import OneHotEncoder\n",
    "onehot_cols = ['location']\n",
    "onehot_enc = OneHotEncoder(handle_unknown='ignore')\n",
    "onehot_enc.fit_transform(dataset[onehot_cols])\n",
    "\n",
    "colnames = list(onehot_enc.get_feature_names(input_features=onehot_cols))\n",
    "\n",
    "onehot_vals = onehot_enc.transform(dataset[onehot_cols]).toarray()\n",
    "enc_df = pd.DataFrame(onehot_vals,columns=colnames,index=dataset.index)\n",
    "dataset = pd.concat([dataset,enc_df],axis=1).drop(onehot_cols,axis=1)\n",
    "\n",
    "dataset = dataset.drop(columns = ['datetime'], axis = 1)\n",
    "\n",
    "display(dataset.head())"
   ]
  },
  {
   "cell_type": "code",
   "execution_count": 19,
   "id": "e52ae2a7",
   "metadata": {},
   "outputs": [
    {
     "data": {
      "image/png": "[encoded data removed]",
      "text/plain": [
       "<Figure size 720x576 with 2 Axes>"
      ]
     },
     "metadata": {
      "needs_background": "light"
     },
     "output_type": "display_data"
    }
   ],
   "source": [
    "plt.figure(figsize=(10,8))\n",
    "cm = dataset.corr(method='pearson')\n",
    "sns.heatmap(cm, annot=True, cmap = 'RdBu_r',linewidth=0.5,square=True)\n",
    "plt.show()"
   ]
  },
  {
   "cell_type": "markdown",
   "id": "wIIK5plOt6eV",
   "metadata": {
    "id": "wIIK5plOt6eV"
   },
   "source": [
    "### 8. transfer the predict data into the same form"
   ]
  },
  {
   "cell_type": "code",
   "execution_count": 20,
   "id": "XzkkBa30uHkP",
   "metadata": {
    "id": "XzkkBa30uHkP"
   },
   "outputs": [],
   "source": [
    "July4test_predict = pd.DataFrame(np.array([['7/4/2014 13:00', 100, 1014, 45, 0, 'Los Angeles'], \n",
    "                                           ['7/4/2014 13:00', 56, 1059, 233, 1, 'Denver'], \n",
    "                                           ['7/4/2014 13:00', 72, 1020, 0, 1, 'Atlanta'],\n",
    "                                           ['7/4/2014 13:00', 78, 1020, 240, 2, 'Jacksonville'],\n",
    "                                           ['7/4/2014 13:00', 70, 1021, 140, 2, 'Miami']]),\n",
    "                   columns=['datetime', 'humidities', 'pressures', 'wind direction', 'wind speed', 'location'])"
   ]
  },
  {
   "cell_type": "code",
   "execution_count": 21,
   "id": "UnfVjs8OuHmm",
   "metadata": {
    "colab": {
     "base_uri": "https://localhost:8080/",
     "height": 0
    },
    "id": "UnfVjs8OuHmm",
    "outputId": "98fd2d20-75b0-4d34-9e5c-dd6f7f5b5fd8"
   },
   "outputs": [
    {
     "data": {
      "text/html": [
       "<div>\n",
       "<style scoped>\n",
       "    .dataframe tbody tr th:only-of-type {\n",
       "        vertical-align: middle;\n",
       "    }\n",
       "\n",
       "    .dataframe tbody tr th {\n",
       "        vertical-align: top;\n",
       "    }\n",
       "\n",
       "    .dataframe thead th {\n",
       "        text-align: right;\n",
       "    }\n",
       "</style>\n",
       "<table border=\"1\" class=\"dataframe\">\n",
       "  <thead>\n",
       "    <tr style=\"text-align: right;\">\n",
       "      <th></th>\n",
       "      <th>wind speed</th>\n",
       "      <th>wind direction</th>\n",
       "      <th>pressures</th>\n",
       "      <th>humidities</th>\n",
       "      <th>month</th>\n",
       "      <th>hour</th>\n",
       "      <th>location_Atlanta</th>\n",
       "      <th>location_Denver</th>\n",
       "      <th>location_Jacksonville</th>\n",
       "      <th>location_Los Angeles</th>\n",
       "      <th>location_Miami</th>\n",
       "    </tr>\n",
       "  </thead>\n",
       "  <tbody>\n",
       "    <tr>\n",
       "      <th>0</th>\n",
       "      <td>0</td>\n",
       "      <td>45</td>\n",
       "      <td>-0.785764</td>\n",
       "      <td>1.728905</td>\n",
       "      <td>7</td>\n",
       "      <td>13</td>\n",
       "      <td>0.0</td>\n",
       "      <td>0.0</td>\n",
       "      <td>0.0</td>\n",
       "      <td>1.0</td>\n",
       "      <td>0.0</td>\n",
       "    </tr>\n",
       "    <tr>\n",
       "      <th>1</th>\n",
       "      <td>1</td>\n",
       "      <td>233</td>\n",
       "      <td>1.976688</td>\n",
       "      <td>-1.338507</td>\n",
       "      <td>7</td>\n",
       "      <td>13</td>\n",
       "      <td>0.0</td>\n",
       "      <td>1.0</td>\n",
       "      <td>0.0</td>\n",
       "      <td>0.0</td>\n",
       "      <td>0.0</td>\n",
       "    </tr>\n",
       "    <tr>\n",
       "      <th>2</th>\n",
       "      <td>1</td>\n",
       "      <td>0</td>\n",
       "      <td>-0.417437</td>\n",
       "      <td>-0.223085</td>\n",
       "      <td>7</td>\n",
       "      <td>13</td>\n",
       "      <td>1.0</td>\n",
       "      <td>0.0</td>\n",
       "      <td>0.0</td>\n",
       "      <td>0.0</td>\n",
       "      <td>0.0</td>\n",
       "    </tr>\n",
       "    <tr>\n",
       "      <th>3</th>\n",
       "      <td>2</td>\n",
       "      <td>240</td>\n",
       "      <td>-0.417437</td>\n",
       "      <td>0.195199</td>\n",
       "      <td>7</td>\n",
       "      <td>13</td>\n",
       "      <td>0.0</td>\n",
       "      <td>0.0</td>\n",
       "      <td>1.0</td>\n",
       "      <td>0.0</td>\n",
       "      <td>0.0</td>\n",
       "    </tr>\n",
       "    <tr>\n",
       "      <th>4</th>\n",
       "      <td>2</td>\n",
       "      <td>140</td>\n",
       "      <td>-0.356049</td>\n",
       "      <td>-0.362512</td>\n",
       "      <td>7</td>\n",
       "      <td>13</td>\n",
       "      <td>0.0</td>\n",
       "      <td>0.0</td>\n",
       "      <td>0.0</td>\n",
       "      <td>0.0</td>\n",
       "      <td>1.0</td>\n",
       "    </tr>\n",
       "  </tbody>\n",
       "</table>\n",
       "</div>"
      ],
      "text/plain": [
       "  wind speed wind direction  pressures  humidities  month  hour  \\\n",
       "0          0             45  -0.785764    1.728905      7    13   \n",
       "1          1            233   1.976688   -1.338507      7    13   \n",
       "2          1              0  -0.417437   -0.223085      7    13   \n",
       "3          2            240  -0.417437    0.195199      7    13   \n",
       "4          2            140  -0.356049   -0.362512      7    13   \n",
       "\n",
       "   location_Atlanta  location_Denver  location_Jacksonville  \\\n",
       "0               0.0              0.0                    0.0   \n",
       "1               0.0              1.0                    0.0   \n",
       "2               1.0              0.0                    0.0   \n",
       "3               0.0              0.0                    1.0   \n",
       "4               0.0              0.0                    0.0   \n",
       "\n",
       "   location_Los Angeles  location_Miami  \n",
       "0                   1.0             0.0  \n",
       "1                   0.0             0.0  \n",
       "2                   0.0             0.0  \n",
       "3                   0.0             0.0  \n",
       "4                   0.0             1.0  "
      ]
     },
     "metadata": {},
     "output_type": "display_data"
    }
   ],
   "source": [
    "July4test_predict['datetime'] =  pd.to_datetime(July4test_predict['datetime'])\n",
    "July4test_predict['month'] = July4test_predict['datetime'].dt.month\n",
    "July4test_predict['hour'] = July4test_predict['datetime'].dt.hour\n",
    "\n",
    "from sklearn.preprocessing import StandardScaler\n",
    "scaler = StandardScaler()\n",
    "cols_to_scale = ['pressures', 'humidities']\n",
    "July4test_predict[cols_to_scale] = scaler.fit_transform(July4test_predict[cols_to_scale])\n",
    "    \n",
    "\n",
    "\n",
    "onehot_cols = ['location']\n",
    "onehot_enc = OneHotEncoder(handle_unknown='ignore')\n",
    "onehot_enc.fit_transform(July4test_predict[onehot_cols])\n",
    "\n",
    "colnames = list(onehot_enc.get_feature_names(input_features=onehot_cols))\n",
    "\n",
    "onehot_vals = onehot_enc.transform(July4test_predict[onehot_cols]).toarray()\n",
    "enc_df = pd.DataFrame(onehot_vals,columns=colnames,index=July4test_predict.index)\n",
    "July4test_predict = pd.concat([July4test_predict,enc_df],axis=1).drop(onehot_cols,axis=1)\n",
    "features_predict = July4test_predict.drop(columns = ['datetime'], axis = 1)\n",
    "\n",
    "features_predict = features_predict[[\"wind speed\", \"wind direction\", \"pressures\", \"humidities\", \"month\", \"hour\", \"location_Atlanta\", \"location_Denver\", \"location_Jacksonville\", \"location_Los Angeles\", \"location_Miami\"]]\n",
    "\n",
    "display(features_predict.head())"
   ]
  },
  {
   "cell_type": "markdown",
   "id": "62340830",
   "metadata": {
    "id": "62340830"
   },
   "source": [
    "# Three: Modeling"
   ]
  },
  {
   "cell_type": "markdown",
   "id": "OiLqRhd4sC4Z",
   "metadata": {
    "id": "OiLqRhd4sC4Z"
   },
   "source": [
    "# Classification Model: y = description"
   ]
  },
  {
   "cell_type": "markdown",
   "id": "eJ_IJOQSsZHB",
   "metadata": {
    "id": "eJ_IJOQSsZHB"
   },
   "source": [
    "## 1. split data"
   ]
  },
  {
   "cell_type": "code",
   "execution_count": 22,
   "id": "fdb28053",
   "metadata": {
    "id": "fdb28053"
   },
   "outputs": [],
   "source": [
    "from sklearn.model_selection import train_test_split\n",
    "from sklearn.compose import ColumnTransformer\n",
    "from sklearn.preprocessing import StandardScaler\n",
    "from sklearn.metrics import mean_absolute_error, mean_squared_error\n",
    "from sklearn.preprocessing import PolynomialFeatures\n",
    "from sklearn.ensemble import RandomForestRegressor\n",
    "from sklearn.model_selection import KFold, cross_val_score\n",
    "from sklearn.svm import SVC\n",
    "from sklearn.linear_model import LinearRegression,Lasso,Ridge\n",
    "from sklearn.metrics import roc_auc_score,accuracy_score,confusion_matrix\n",
    "from sklearn.tree import DecisionTreeClassifier, DecisionTreeRegressor, plot_tree\n",
    "from sklearn.model_selection import GridSearchCV\n",
    "from sklearn.ensemble import RandomForestClassifier,AdaBoostClassifier, GradientBoostingClassifier\n",
    "from sklearn.ensemble import VotingClassifier, StackingClassifier\n",
    "import warnings\n",
    "warnings.filterwarnings(\"ignore\")"
   ]
  },
  {
   "cell_type": "code",
   "execution_count": 24,
   "id": "432f61ed",
   "metadata": {
    "id": "432f61ed"
   },
   "outputs": [],
   "source": [
    "def split_data_desc(df):\n",
    "    data = df\n",
    "    X = data.drop(columns=['temperatures', 'description','new_class'])\n",
    "    y = data['description']\n",
    "    \n",
    "    X_train,X_test,y_train,y_test = train_test_split(X, y, random_state=0,test_size=0.2)\n",
    "    \n",
    "    #   StandardScale['pressures', 'humidities'] column because they are continuous variable\n",
    "    scaler = StandardScaler()\n",
    "    cols_to_scale = ['pressures', 'humidities']\n",
    "  \n",
    "    X_train[cols_to_scale] = scaler.fit_transform(X_train[cols_to_scale])\n",
    "    X_test[cols_to_scale] = scaler.transform(X_test[cols_to_scale])\n",
    "    \n",
    "    X_train_scaled = X_train\n",
    "    X_test_scaled = X_test\n",
    "\n",
    "    return X_train_scaled,y_train,X_test_scaled, y_test\n",
    "    raise NotImplementedError()"
   ]
  },
  {
   "cell_type": "code",
   "execution_count": 25,
   "id": "41474187",
   "metadata": {
    "id": "41474187"
   },
   "outputs": [],
   "source": [
    "X_train_scaled,y_train,X_test_scaled, y_test = split_data_desc(dataset)\n"
   ]
  },
  {
   "cell_type": "markdown",
   "id": "21994de9",
   "metadata": {
    "id": "21994de9"
   },
   "source": [
    "## 2. select Classification algorithm"
   ]
  },
  {
   "cell_type": "code",
   "execution_count": 26,
   "id": "9c666bd3",
   "metadata": {
    "id": "9c666bd3"
   },
   "outputs": [],
   "source": [
    "def model_accuracy(X_train,y_train,model):\n",
    "    \n",
    "    model.fit(X_train,y_train)\n",
    "    cv_scores = cross_val_score(model,X_train,y_train,scoring='accuracy',cv=3)\n",
    "    cv_acc = np.mean(cv_scores)\n",
    "    \n",
    "    return cv_acc\n",
    "    raise NotImplementedError()"
   ]
  },
  {
   "cell_type": "markdown",
   "id": "11015094",
   "metadata": {
    "id": "11015094"
   },
   "source": [
    "#### Try Random Forest"
   ]
  },
  {
   "cell_type": "code",
   "execution_count": 27,
   "id": "89aa9384",
   "metadata": {
    "colab": {
     "base_uri": "https://localhost:8080/"
    },
    "id": "89aa9384",
    "outputId": "af002b1a-f81a-4fb7-e90c-bca28b4874a3"
   },
   "outputs": [
    {
     "data": {
      "text/plain": [
       "{'max_features': 0.5,\n",
       " 'max_samples': None,\n",
       " 'min_samples_leaf': 1,\n",
       " 'n_estimators': 1000}"
      ]
     },
     "execution_count": 27,
     "metadata": {},
     "output_type": "execute_result"
    }
   ],
   "source": [
    "params = {'min_samples_leaf':[1,3,10],'n_estimators':[100,1000],\n",
    "          'max_features':[0.1,0.5,1.],'max_samples':[0.5,None]}\n",
    "\n",
    "model = RandomForestClassifier()\n",
    "grid_search = GridSearchCV(model,params,cv=3)\n",
    "grid_search.fit(X_train_scaled,y_train)\n",
    "grid_search.best_params_"
   ]
  },
  {
   "cell_type": "code",
   "execution_count": 28,
   "id": "805685b9",
   "metadata": {
    "colab": {
     "base_uri": "https://localhost:8080/",
     "height": 226
    },
    "id": "805685b9",
    "outputId": "b1686009-031a-4f2e-b4d2-78598eaf3ce8"
   },
   "outputs": [
    {
     "name": "stdout",
     "output_type": "stream",
     "text": [
      "Accuracy on train set is 0.55150618\n"
     ]
    }
   ],
   "source": [
    "opt_rf_model = RandomForestClassifier(criterion='gini',max_depth=None, min_samples_leaf=1,n_estimators=1000,\n",
    "                                 max_features=0.5,max_samples=None,random_state=0)\n",
    "acc_score = model_accuracy(X_train_scaled,y_train,opt_rf_model)\n",
    "print('Accuracy on train set is {:.8f}'.format(acc_score))"
   ]
  },
  {
   "cell_type": "code",
   "execution_count": 29,
   "id": "5a849d73",
   "metadata": {},
   "outputs": [
    {
     "name": "stdout",
     "output_type": "stream",
     "text": [
      "Test set accuracy is 0.576\n"
     ]
    }
   ],
   "source": [
    "opt_rf_model = RandomForestClassifier(criterion='gini',max_depth=None, min_samples_leaf=1,n_estimators=1000,\n",
    "                                 max_features=0.5,max_samples=None,random_state=0)\n",
    "opt_rf_model.fit(X_train_scaled,y_train)\n",
    "test_preds = opt_rf_model.predict(X_test_scaled)\n",
    "test_acc = np.sum(test_preds==y_test)/len(y_test)\n",
    "print('Test set accuracy is {:.3f}'.format(test_acc))"
   ]
  },
  {
   "cell_type": "code",
   "execution_count": 30,
   "id": "3c3be93d",
   "metadata": {},
   "outputs": [
    {
     "name": "stdout",
     "output_type": "stream",
     "text": [
      "              precision    recall  f1-score   support\n",
      "\n",
      "           3       0.45      0.27      0.34       738\n",
      "          21       0.69      0.87      0.77      3962\n",
      "           0       0.47      0.49      0.48      1382\n",
      "          14       0.50      0.27      0.35       224\n",
      "          19       0.51      0.41      0.46      1278\n",
      "          13       0.41      0.46      0.43       805\n",
      "          15       0.55      0.49      0.52      1036\n",
      "          11       0.51      0.47      0.49       898\n",
      "          25       0.13      0.04      0.06        50\n",
      "           4       0.27      0.17      0.21       143\n",
      "          12       0.70      0.33      0.45        21\n",
      "           9       0.00      0.00      0.00        55\n",
      "          17       0.11      0.04      0.06        46\n",
      "           5       0.47      0.28      0.35       180\n",
      "          30       0.50      0.11      0.18         9\n",
      "           8       0.17      0.05      0.08        19\n",
      "           7       0.38      0.18      0.25        49\n",
      "          28       0.33      0.06      0.10        17\n",
      "           1       0.00      0.00      0.00        17\n",
      "          26       0.00      0.00      0.00         6\n",
      "          23       0.33      0.25      0.29         4\n",
      "          29       0.00      0.00      0.00         6\n",
      "          22       0.00      0.00      0.00         1\n",
      "           6       0.00      0.00      0.00         3\n",
      "          16       0.33      0.50      0.40         2\n",
      "          24       0.00      0.00      0.00         2\n",
      "          10       0.00      0.00      0.00         1\n",
      "          18       0.00      0.00      0.00         1\n",
      "\n",
      "    accuracy                           0.58     10955\n",
      "   macro avg       0.28      0.21      0.22     10955\n",
      "weighted avg       0.55      0.58      0.56     10955\n",
      "\n"
     ]
    }
   ],
   "source": [
    "from sklearn.metrics import classification_report, confusion_matrix\n",
    "label = y_test.unique().tolist()\n",
    "print(classification_report(y_test, test_preds, labels= label))"
   ]
  },
  {
   "cell_type": "code",
   "execution_count": 31,
   "id": "13f2f7f3",
   "metadata": {
    "id": "13f2f7f3"
   },
   "outputs": [],
   "source": [
    "def calc_feature_importances(model,feat_names,num_to_show):\n",
    "    # Determine the relative importance of each feature using the random forest model\n",
    "    importances = model.feature_importances_\n",
    "    # Get an array of the indices that would sort \"importances\" in reverse order to get largest to smallest\n",
    "    indices = np.argsort(importances)[::-1]\n",
    "    ranked_feats = []\n",
    "    for i in range(len(indices)):\n",
    "        feat_name = feat_names[indices[i]]\n",
    "        ranked_feats.append(feat_name)\n",
    "    RF_ranking = pd.DataFrame()\n",
    "    RF_ranking['Feat Index'] = indices\n",
    "    RF_ranking['Feature'] = ranked_feats\n",
    "    RF_ranking['Importance'] = np.sort(importances)[::-1]\n",
    "    display(RF_ranking.iloc[:num_to_show,:])\n",
    "\n",
    "    # Plot the importance value for each feature\n",
    "    RF_ranking[:num_to_show][::-1].plot(x='Feature',y='Importance',kind='barh',figsize=(12,7),legend=False,title='RF Feature Importance')\n",
    "    plt.show()\n",
    "    return RF_ranking"
   ]
  },
  {
   "cell_type": "code",
   "execution_count": 32,
   "id": "7e8215be",
   "metadata": {
    "id": "7e8215be"
   },
   "outputs": [
    {
     "data": {
      "text/html": [
       "<div>\n",
       "<style scoped>\n",
       "    .dataframe tbody tr th:only-of-type {\n",
       "        vertical-align: middle;\n",
       "    }\n",
       "\n",
       "    .dataframe tbody tr th {\n",
       "        vertical-align: top;\n",
       "    }\n",
       "\n",
       "    .dataframe thead th {\n",
       "        text-align: right;\n",
       "    }\n",
       "</style>\n",
       "<table border=\"1\" class=\"dataframe\">\n",
       "  <thead>\n",
       "    <tr style=\"text-align: right;\">\n",
       "      <th></th>\n",
       "      <th>Feat Index</th>\n",
       "      <th>Feature</th>\n",
       "      <th>Importance</th>\n",
       "    </tr>\n",
       "  </thead>\n",
       "  <tbody>\n",
       "    <tr>\n",
       "      <th>0</th>\n",
       "      <td>3</td>\n",
       "      <td>humidities</td>\n",
       "      <td>0.207368</td>\n",
       "    </tr>\n",
       "    <tr>\n",
       "      <th>1</th>\n",
       "      <td>2</td>\n",
       "      <td>pressures</td>\n",
       "      <td>0.184091</td>\n",
       "    </tr>\n",
       "    <tr>\n",
       "      <th>2</th>\n",
       "      <td>1</td>\n",
       "      <td>direction</td>\n",
       "      <td>0.183161</td>\n",
       "    </tr>\n",
       "    <tr>\n",
       "      <th>3</th>\n",
       "      <td>5</td>\n",
       "      <td>hour</td>\n",
       "      <td>0.173084</td>\n",
       "    </tr>\n",
       "    <tr>\n",
       "      <th>4</th>\n",
       "      <td>4</td>\n",
       "      <td>month</td>\n",
       "      <td>0.120553</td>\n",
       "    </tr>\n",
       "    <tr>\n",
       "      <th>5</th>\n",
       "      <td>0</td>\n",
       "      <td>speed</td>\n",
       "      <td>0.073388</td>\n",
       "    </tr>\n",
       "    <tr>\n",
       "      <th>6</th>\n",
       "      <td>9</td>\n",
       "      <td>location_Los Angeles</td>\n",
       "      <td>0.017660</td>\n",
       "    </tr>\n",
       "    <tr>\n",
       "      <th>7</th>\n",
       "      <td>10</td>\n",
       "      <td>location_Miami</td>\n",
       "      <td>0.013549</td>\n",
       "    </tr>\n",
       "    <tr>\n",
       "      <th>8</th>\n",
       "      <td>7</td>\n",
       "      <td>location_Denver</td>\n",
       "      <td>0.010696</td>\n",
       "    </tr>\n",
       "    <tr>\n",
       "      <th>9</th>\n",
       "      <td>6</td>\n",
       "      <td>location_Atlanta</td>\n",
       "      <td>0.009119</td>\n",
       "    </tr>\n",
       "    <tr>\n",
       "      <th>10</th>\n",
       "      <td>8</td>\n",
       "      <td>location_Jacksonville</td>\n",
       "      <td>0.007332</td>\n",
       "    </tr>\n",
       "  </tbody>\n",
       "</table>\n",
       "</div>"
      ],
      "text/plain": [
       "    Feat Index                Feature  Importance\n",
       "0            3             humidities    0.207368\n",
       "1            2              pressures    0.184091\n",
       "2            1              direction    0.183161\n",
       "3            5                   hour    0.173084\n",
       "4            4                  month    0.120553\n",
       "5            0                  speed    0.073388\n",
       "6            9   location_Los Angeles    0.017660\n",
       "7           10         location_Miami    0.013549\n",
       "8            7        location_Denver    0.010696\n",
       "9            6       location_Atlanta    0.009119\n",
       "10           8  location_Jacksonville    0.007332"
      ]
     },
     "metadata": {},
     "output_type": "display_data"
    },
    {
     "data": {
      "image/png": "[encoded data removed]",
      "text/plain": [
       "<Figure size 864x504 with 1 Axes>"
      ]
     },
     "metadata": {
      "needs_background": "light"
     },
     "output_type": "display_data"
    }
   ],
   "source": [
    "rf_model = RandomForestClassifier()\n",
    "rf_model.fit(X_train_scaled,y_train)\n",
    "top_feats = 13\n",
    "ranking = calc_feature_importances(rf_model,X_train_scaled.columns,top_feats)"
   ]
  },
  {
   "cell_type": "markdown",
   "id": "3bf40f83",
   "metadata": {},
   "source": [
    "#### Try Logistic Regression"
   ]
  },
  {
   "cell_type": "code",
   "execution_count": 33,
   "id": "6b398302",
   "metadata": {},
   "outputs": [
    {
     "name": "stdout",
     "output_type": "stream",
     "text": [
      "Accuracy on train set is 0.36524415\n"
     ]
    }
   ],
   "source": [
    "from sklearn.linear_model import LogisticRegression\n",
    "opt_logistic_regression_model = LogisticRegression(penalty = 'l2', C = 1,random_state = 0)\n",
    "acc_score = model_accuracy(X_train_scaled,y_train,opt_logistic_regression_model)\n",
    "print('Accuracy on train set is {:.8f}'.format(acc_score))"
   ]
  },
  {
   "cell_type": "code",
   "execution_count": 34,
   "id": "d71fad55",
   "metadata": {},
   "outputs": [],
   "source": [
    "def logistic_best_c(X_train,y_train,c_range):\n",
    "    acc = []\n",
    "    for num in c_range:\n",
    "        Logistic_model = LogisticRegression(penalty = 'l2', C = num,random_state = 0)\n",
    "        acc_score = model_accuracy(X_train,y_train,Logistic_model)\n",
    "        acc.append(acc_score)\n",
    "    idx = np.argmax(acc)\n",
    "    opt_c = c_range[idx]\n",
    "    \n",
    "    plt.plot(acc)\n",
    "    plt.xlabel('Num_c')\n",
    "    plt.ylabel('Cross-validation accuracy')\n",
    "    plt.title('Optimal number of c is {}'.format(opt_c))\n",
    "    plt.show()\n",
    "    print('Accuracy on train set is {:.8f}'.format(max(acc)))\n",
    "    \n",
    "    return opt_c "
   ]
  },
  {
   "cell_type": "code",
   "execution_count": 35,
   "id": "5c54ac8c",
   "metadata": {},
   "outputs": [
    {
     "data": {
      "image/png": "[encoded data removed]",
      "text/plain": [
       "<Figure size 432x288 with 1 Axes>"
      ]
     },
     "metadata": {
      "needs_background": "light"
     },
     "output_type": "display_data"
    },
    {
     "name": "stdout",
     "output_type": "stream",
     "text": [
      "Accuracy on train set is 0.36622542\n"
     ]
    }
   ],
   "source": [
    "c_range = range(1,36)\n",
    "opt_c = logistic_best_c(X_train_scaled,y_train,c_range)"
   ]
  },
  {
   "cell_type": "code",
   "execution_count": 36,
   "id": "80c93c3e",
   "metadata": {},
   "outputs": [
    {
     "name": "stdout",
     "output_type": "stream",
     "text": [
      "Test set accuracy is 0.370\n"
     ]
    }
   ],
   "source": [
    "opt_logistic_regression_model = LogisticRegression(penalty = 'l2', C = 10,random_state = 0)\n",
    "opt_logistic_regression_model.fit(X_train_scaled,y_train)\n",
    "test_preds = opt_logistic_regression_model.predict(X_test_scaled)\n",
    "test_acc = np.sum(test_preds==y_test)/len(y_test)\n",
    "print('Test set accuracy is {:.3f}'.format(test_acc))"
   ]
  },
  {
   "cell_type": "markdown",
   "id": "f95d592a",
   "metadata": {
    "id": "f95d592a"
   },
   "source": [
    "#### Try Adaboost"
   ]
  },
  {
   "cell_type": "code",
   "execution_count": 37,
   "id": "1cf48f50",
   "metadata": {
    "id": "1cf48f50"
   },
   "outputs": [],
   "source": [
    "def boost_best_range(X_train,y_train,learners_range):\n",
    "    acc = []\n",
    "    for num in learners_range:\n",
    "        boosting_model = AdaBoostClassifier(n_estimators=num,random_state=0)\n",
    "        acc_score = model_accuracy(X_train,y_train,boosting_model)\n",
    "        acc.append(acc_score)\n",
    "    idx = np.argmax(acc)\n",
    "    opt_learner_range = learners_range[idx]\n",
    "    \n",
    "    plt.plot(acc)\n",
    "    plt.xlabel('Num_learner_range')\n",
    "    plt.ylabel('Cross-validation accuracy')\n",
    "    plt.title('Optimal number of range is {}'.format(opt_learner_range))\n",
    "    plt.show()\n",
    "    print('Accuracy on train set is {:.8f}'.format(max(acc)))\n",
    "    \n",
    "    return opt_learner_range"
   ]
  },
  {
   "cell_type": "code",
   "execution_count": 38,
   "id": "d1e5f5e4",
   "metadata": {
    "id": "d1e5f5e4",
    "outputId": "9b03b63d-651a-4f58-f798-a8489d78cadf"
   },
   "outputs": [
    {
     "data": {
      "image/png": "[encoded data removed]",
      "text/plain": [
       "<Figure size 432x288 with 1 Axes>"
      ]
     },
     "metadata": {
      "needs_background": "light"
     },
     "output_type": "display_data"
    },
    {
     "name": "stdout",
     "output_type": "stream",
     "text": [
      "Accuracy on train set is 0.36501581\n"
     ]
    }
   ],
   "source": [
    "learners_range = range(1,51)\n",
    "learners_range = boost_best_range(X_train_scaled,y_train,learners_range)"
   ]
  },
  {
   "cell_type": "code",
   "execution_count": 39,
   "id": "b2fe7bb8",
   "metadata": {
    "id": "b2fe7bb8"
   },
   "outputs": [
    {
     "name": "stdout",
     "output_type": "stream",
     "text": [
      "Test set accuracy is 0.367\n"
     ]
    }
   ],
   "source": [
    "opt_boost_model = AdaBoostClassifier(n_estimators=4,random_state=0)\n",
    "opt_boost_model.fit(X_train_scaled,y_train)\n",
    "test_preds = opt_boost_model.predict(X_test_scaled)\n",
    "test_acc = np.sum(test_preds==y_test)/len(y_test)\n",
    "print('Test set accuracy is {:.3f}'.format(test_acc))\n"
   ]
  },
  {
   "cell_type": "markdown",
   "id": "4ca4dcd4",
   "metadata": {},
   "source": [
    "# New class bonus part"
   ]
  },
  {
   "cell_type": "markdown",
   "id": "de7c9b22",
   "metadata": {},
   "source": [
    "## I set the new class as the target y and use random forest to see the accuracy"
   ]
  },
  {
   "cell_type": "code",
   "execution_count": 40,
   "id": "67440c1e",
   "metadata": {},
   "outputs": [],
   "source": [
    "def split_data_desc_newclass(df):\n",
    "    data = df\n",
    "    X = data.drop(columns=['temperatures', 'description', 'new_class'])\n",
    "    y = data['new_class']\n",
    "    \n",
    "    X_train,X_test,y_train,y_test = train_test_split(X, y, random_state=0,test_size=0.2)\n",
    "    \n",
    "    #   StandardScale['pressures', 'humidities'] column because they are continuous variable\n",
    "    scaler = StandardScaler()\n",
    "    cols_to_scale = ['pressures', 'humidities']\n",
    "  \n",
    "    X_train[cols_to_scale] = scaler.fit_transform(X_train[cols_to_scale])\n",
    "    X_test[cols_to_scale] = scaler.transform(X_test[cols_to_scale])\n",
    "    \n",
    "    X_train_scaled = X_train\n",
    "    X_test_scaled = X_test\n",
    "\n",
    "    return X_train_scaled,y_train,X_test_scaled, y_test\n",
    "    raise NotImplementedError()"
   ]
  },
  {
   "cell_type": "code",
   "execution_count": 41,
   "id": "a7e44b82",
   "metadata": {},
   "outputs": [],
   "source": [
    "X_train_scaled_newclass,y_train_newclass,X_test_scaled_newclass, y_test_newclass = split_data_desc_newclass(dataset)"
   ]
  },
  {
   "cell_type": "code",
   "execution_count": 42,
   "id": "f755778f",
   "metadata": {},
   "outputs": [
    {
     "name": "stdout",
     "output_type": "stream",
     "text": [
      "Accuracy on train set is 0.69130532\n"
     ]
    }
   ],
   "source": [
    "rf_model_newclass = RandomForestClassifier(criterion='gini',max_depth=None, min_samples_leaf=1,n_estimators=1000,\n",
    "                                 max_features=0.5,max_samples=None,random_state=0)\n",
    "acc_score = model_accuracy(X_train_scaled_newclass,y_train_newclass,rf_model_newclass)\n",
    "print('Accuracy on train set is {:.8f}'.format(acc_score))"
   ]
  },
  {
   "cell_type": "code",
   "execution_count": 43,
   "id": "f0ea9c7d",
   "metadata": {},
   "outputs": [
    {
     "name": "stdout",
     "output_type": "stream",
     "text": [
      "Test set accuracy is 0.712\n"
     ]
    }
   ],
   "source": [
    "rf_model_newclass.fit(X_train_scaled_newclass,y_train_newclass)\n",
    "test_preds_newclass = rf_model_newclass.predict(X_test_scaled_newclass)\n",
    "test_acc = np.sum(test_preds_newclass ==y_test_newclass)/len(y_test_newclass)\n",
    "print('Test set accuracy is {:.3f}'.format(test_acc))"
   ]
  },
  {
   "cell_type": "code",
   "execution_count": 44,
   "id": "a17e1200",
   "metadata": {},
   "outputs": [
    {
     "name": "stdout",
     "output_type": "stream",
     "text": [
      "              precision    recall  f1-score   support\n",
      "\n",
      "           1       0.71      0.79      0.75      4434\n",
      "           3       0.77      0.79      0.78      3962\n",
      "           5       0.65      0.48      0.55      1272\n",
      "           2       0.58      0.49      0.53      1128\n",
      "           4       0.33      0.06      0.11       159\n",
      "\n",
      "    accuracy                           0.71     10955\n",
      "   macro avg       0.61      0.52      0.54     10955\n",
      "weighted avg       0.70      0.71      0.70     10955\n",
      "\n"
     ]
    }
   ],
   "source": [
    "from sklearn.metrics import classification_report, confusion_matrix\n",
    "label = y_test_newclass.unique().tolist()\n",
    "print(classification_report(y_test_newclass, test_preds_newclass, labels= label))"
   ]
  },
  {
   "cell_type": "markdown",
   "id": "e3a97db0",
   "metadata": {
    "id": "e3a97db0"
   },
   "source": [
    "# Regression Model: y = temperatures"
   ]
  },
  {
   "cell_type": "markdown",
   "id": "GbQkfT0ZsttR",
   "metadata": {
    "id": "GbQkfT0ZsttR"
   },
   "source": [
    "## 1. split data"
   ]
  },
  {
   "cell_type": "code",
   "execution_count": 45,
   "id": "2d19cec8",
   "metadata": {
    "id": "2d19cec8"
   },
   "outputs": [],
   "source": [
    "def split_data_temp(df):\n",
    "    data = df\n",
    "    X = data.drop(columns=['temperatures', 'description', 'new_class'])\n",
    "    y = data['temperatures']\n",
    "    \n",
    "    X_train,X_test,y_train,y_test = train_test_split(X, y, random_state=0,test_size=0.1)\n",
    "    \n",
    "    #   StandardScale['pressures', 'humidities'] column because they are continuous variable\n",
    "    scaler = StandardScaler()\n",
    "    cols_to_scale = ['pressures', 'humidities']\n",
    "  \n",
    "    X_train[cols_to_scale] = scaler.fit_transform(X_train[cols_to_scale])\n",
    "    X_test[cols_to_scale] = scaler.transform(X_test[cols_to_scale])\n",
    "    \n",
    "    X_train_scaled = X_train\n",
    "    X_test_scaled = X_test\n",
    "\n",
    "    return X_train_scaled,y_train,X_test_scaled, y_test\n",
    "    raise NotImplementedError()"
   ]
  },
  {
   "cell_type": "code",
   "execution_count": 46,
   "id": "8a51c628",
   "metadata": {
    "id": "8a51c628"
   },
   "outputs": [],
   "source": [
    "X_train_scaled_T,y_train_T,X_test_scaled_T, y_test_T = split_data_temp(dataset)\n"
   ]
  },
  {
   "cell_type": "markdown",
   "id": "aba001a2",
   "metadata": {
    "id": "aba001a2"
   },
   "source": [
    "## select regression algorithm"
   ]
  },
  {
   "cell_type": "code",
   "execution_count": 47,
   "id": "3a797068",
   "metadata": {},
   "outputs": [],
   "source": [
    "def model_mse(X_train,y_train,model):\n",
    "    \n",
    "    model.fit(X_train,y_train)\n",
    "    cv_scores = cross_val_score(model,X_train,y_train,scoring='neg_mean_squared_error',cv=3)\n",
    "    cv_acc = np.mean(cv_scores)\n",
    "    \n",
    "    return cv_acc\n",
    "    raise NotImplementedError()"
   ]
  },
  {
   "cell_type": "markdown",
   "id": "-QTnbfWas5Fz",
   "metadata": {
    "id": "-QTnbfWas5Fz"
   },
   "source": [
    "#### Try linear regression"
   ]
  },
  {
   "cell_type": "code",
   "execution_count": 48,
   "id": "hpmoGF0Ks5QN",
   "metadata": {
    "colab": {
     "base_uri": "https://localhost:8080/"
    },
    "id": "hpmoGF0Ks5QN",
    "outputId": "aad82147-c0f3-4a96-aab0-e867e6aa666a"
   },
   "outputs": [
    {
     "name": "stdout",
     "output_type": "stream",
     "text": [
      "Test set mse is is -50.15863022\n"
     ]
    }
   ],
   "source": [
    "# select a linear model to see the baseline\n",
    "model = LinearRegression()\n",
    "mse = model_mse(X_train_scaled_T,y_train_T,model)\n",
    "print('Test set mse is is {:.8f}'.format(mse))"
   ]
  },
  {
   "cell_type": "code",
   "execution_count": 49,
   "id": "PI4cJ0Nus5TW",
   "metadata": {
    "id": "PI4cJ0Nus5TW"
   },
   "outputs": [],
   "source": [
    "# use polynomial to find the best n\n",
    "def polynomial_model(X_train_scaled_T,y_train_T,n_range):\n",
    "    mse_train = []\n",
    "    mse_val = []\n",
    "    n_i = []\n",
    "    \n",
    "    X_train,X_val,y_train,y_val = train_test_split(X_train_scaled_T, y_train_T, random_state=0,test_size=0.15)\n",
    "    \n",
    "    for i in n_range:\n",
    "        poly = PolynomialFeatures(i, include_bias=True)\n",
    "        \n",
    "        X_train_poly = poly.fit_transform(X_train)\n",
    "        X_val_poly = poly.transform(X_val)\n",
    "        \n",
    "        poly_model = LinearRegression()\n",
    "        poly_model.fit(X_train_poly,y_train)\n",
    "        \n",
    "        train_preds_poly = poly_model.predict(X_train_poly)\n",
    "        \n",
    "        val_preds_poly = poly_model.predict(X_val_poly)\n",
    "\n",
    "        mseval = mean_squared_error(y_val, val_preds_poly)\n",
    "        msetrain = mean_squared_error(y_train, train_preds_poly)\n",
    "        mse_train.append(msetrain)\n",
    "        mse_val.append(mseval)\n",
    "        n_i.append(i)\n",
    "    \n",
    "    min_value = min(mse_val)\n",
    "    min_index = mse_val.index(min_value) \n",
    "    opt_degree = n_range[min_index]\n",
    "\n",
    "    return mse_train, mse_val, opt_degree\n",
    "    raise NotImplementedError()"
   ]
  },
  {
   "cell_type": "code",
   "execution_count": 50,
   "id": "SNMciqdJs5V8",
   "metadata": {
    "id": "SNMciqdJs5V8"
   },
   "outputs": [
    {
     "data": {
      "image/png": "[encoded data removed]",
      "text/plain": [
       "<Figure size 432x288 with 1 Axes>"
      ]
     },
     "metadata": {
      "needs_background": "light"
     },
     "output_type": "display_data"
    },
    {
     "name": "stdout",
     "output_type": "stream",
     "text": [
      "Your function found the optimal degree was 5\n"
     ]
    }
   ],
   "source": [
    "n_range = range(1,6)\n",
    "train_errors, val_errors, opt_degree = polynomial_model(X_train_scaled_T,y_train_T, n_range)\n",
    "\n",
    "# Plot the MSE versus degree of polynomial used for the nonlinear regression\n",
    "plt.figure()\n",
    "plt.plot(range(1,6),train_errors,marker='o',label='Train MSE')\n",
    "plt.plot(range(1,6),val_errors,marker='s',label='Val MSE')\n",
    "plt.xlabel('Degree of polynomial')\n",
    "plt.ylabel('MSE')\n",
    "plt.legend()\n",
    "plt.title('MSE vs Degree of polynomial')\n",
    "plt.show()\n",
    "\n",
    "print('Your function found the optimal degree was {}'.format(opt_degree))\n",
    "\n"
   ]
  },
  {
   "cell_type": "code",
   "execution_count": 51,
   "id": "c9272abe",
   "metadata": {},
   "outputs": [
    {
     "name": "stdout",
     "output_type": "stream",
     "text": [
      "Train set mse is -11.54432166\n"
     ]
    }
   ],
   "source": [
    "poly = PolynomialFeatures(4, include_bias=True)\n",
    "X_train_scaled_T_poly = poly.fit_transform(X_train_scaled_T)\n",
    "poly_model = LinearRegression()\n",
    "mse = model_mse(X_train_scaled_T_poly,y_train_T,poly_model)\n",
    "print('Train set mse is {:.8f}'.format(mse))"
   ]
  },
  {
   "cell_type": "code",
   "execution_count": 52,
   "id": "f822bdac",
   "metadata": {},
   "outputs": [
    {
     "name": "stdout",
     "output_type": "stream",
     "text": [
      "Test set mse is 11.261\n"
     ]
    }
   ],
   "source": [
    "poly = PolynomialFeatures(4, include_bias=True)\n",
    "X_train_scaled_T_poly = poly.fit_transform(X_train_scaled_T)\n",
    "X_test_poly = poly.transform(X_test_scaled_T)\n",
    "poly_model = LinearRegression()\n",
    "poly_model.fit(X_train_scaled_T_poly,y_train_T)\n",
    "test_preds_poly = poly_model.predict(X_test_poly)\n",
    "mse = mean_squared_error(y_test_T, test_preds_poly)\n",
    "print('Test set mse is {:.3f}'.format(mse))\n"
   ]
  },
  {
   "cell_type": "code",
   "execution_count": 53,
   "id": "a845e7fb",
   "metadata": {},
   "outputs": [
    {
     "name": "stdout",
     "output_type": "stream",
     "text": [
      "Test set r2 is 0.864\n"
     ]
    }
   ],
   "source": [
    "poly_model.fit(X_train_scaled_T_poly,y_train_T)\n",
    "test_preds_poly = poly_model.predict(X_test_poly)\n",
    "from sklearn.metrics import r2_score\n",
    "r2_score = r2_score(y_test_T, test_preds_poly)\n",
    "print('Test set r2 is {:.3f}'.format(r2_score))"
   ]
  },
  {
   "cell_type": "markdown",
   "id": "_dlTt2Fqs5cV",
   "metadata": {
    "id": "_dlTt2Fqs5cV"
   },
   "source": [
    "#### Try Ramdom Forest regression"
   ]
  },
  {
   "cell_type": "code",
   "execution_count": 54,
   "id": "3Qz9omsg4GCJ",
   "metadata": {
    "id": "3Qz9omsg4GCJ"
   },
   "outputs": [],
   "source": [
    "from sklearn.ensemble import RandomForestRegressor "
   ]
  },
  {
   "cell_type": "code",
   "execution_count": 55,
   "id": "avF1x0q14GE0",
   "metadata": {
    "id": "avF1x0q14GE0"
   },
   "outputs": [
    {
     "name": "stdout",
     "output_type": "stream",
     "text": [
      "6.271187621134338\n"
     ]
    }
   ],
   "source": [
    "regressor = RandomForestRegressor(n_estimators=10, random_state=0)\n",
    "regressor.fit(X_train_scaled_T,y_train_T)\n",
    "y_predict = regressor.predict(X_test_scaled_T)\n",
    "from sklearn.metrics import mean_squared_error\n",
    "mse = mean_squared_error(y_test_T, y_predict)\n",
    "print(mse)"
   ]
  },
  {
   "cell_type": "code",
   "execution_count": 56,
   "id": "tvfA-61q4GH1",
   "metadata": {
    "id": "tvfA-61q4GH1"
   },
   "outputs": [
    {
     "data": {
      "text/plain": [
       "{'max_features': 0.5,\n",
       " 'max_samples': None,\n",
       " 'min_samples_leaf': 1,\n",
       " 'n_estimators': 1000}"
      ]
     },
     "execution_count": 56,
     "metadata": {},
     "output_type": "execute_result"
    }
   ],
   "source": [
    "params = {'min_samples_leaf':[1,3,10],'n_estimators':[100,1000],\n",
    "          'max_features':[0.1,0.5,1.],'max_samples':[0.5,None]}\n",
    "\n",
    "model = RandomForestRegressor()\n",
    "grid_search = GridSearchCV(model,params,cv=3)\n",
    "grid_search.fit(X_train_scaled_T,y_train_T)\n",
    "grid_search.best_params_"
   ]
  },
  {
   "cell_type": "code",
   "execution_count": 57,
   "id": "VLrODC4c4GLd",
   "metadata": {
    "id": "VLrODC4c4GLd"
   },
   "outputs": [
    {
     "name": "stdout",
     "output_type": "stream",
     "text": [
      "Train set mse is -6.38715002\n"
     ]
    }
   ],
   "source": [
    "opt_regressor = RandomForestRegressor(min_samples_leaf=1,n_estimators=1000,\n",
    "                                 max_features=0.5,max_samples=None,random_state=0)\n",
    "mse = model_mse(X_train_scaled_T,y_train_T,opt_regressor)\n",
    "print('Train set mse is {:.8f}'.format(mse))"
   ]
  },
  {
   "cell_type": "code",
   "execution_count": 58,
   "id": "2240e360",
   "metadata": {},
   "outputs": [
    {
     "name": "stdout",
     "output_type": "stream",
     "text": [
      "Test set mse is 5.374\n"
     ]
    }
   ],
   "source": [
    "opt_regressor = RandomForestRegressor(min_samples_leaf=1,n_estimators=1000,\n",
    "                                 max_features=0.5,max_samples=None,random_state=0)\n",
    "opt_regressor.fit(X_train_scaled_T,y_train_T)\n",
    "test_preds = opt_regressor.predict(X_test_scaled_T)\n",
    "mse = mean_squared_error(y_test_T, test_preds)\n",
    "print('Test set mse is {:.3f}'.format(mse))"
   ]
  },
  {
   "cell_type": "code",
   "execution_count": 59,
   "id": "24453dc9",
   "metadata": {},
   "outputs": [
    {
     "name": "stdout",
     "output_type": "stream",
     "text": [
      "Test set r2 is 0.935\n"
     ]
    }
   ],
   "source": [
    "opt_regressor = RandomForestRegressor(min_samples_leaf=1,n_estimators=1000,\n",
    "                                 max_features=0.5,max_samples=None,random_state=0)\n",
    "opt_regressor.fit(X_train_scaled_T,y_train_T)\n",
    "test_preds = opt_regressor.predict(X_test_scaled_T)\n",
    "from sklearn.metrics import r2_score\n",
    "r2_score = r2_score(y_test_T, test_preds)\n",
    "print('Test set r2 is {:.3f}'.format(r2_score))"
   ]
  },
  {
   "cell_type": "markdown",
   "id": "06aad9d9",
   "metadata": {},
   "source": [
    "# Four: predict\n",
    "After selecting algorithm on our dataset, we find\n",
    "\n",
    "#### Classification model(accuracy):\n",
    "- Random Forest: 0.576\n",
    "- Logistic Regression: 0.370\n",
    "- Adaboost: 0.367\n",
    "\n",
    "#### Regression model(mse):\n",
    "- Random Forest Regression: 5.374\n",
    "- Linear Regression: 11.261"
   ]
  },
  {
   "cell_type": "code",
   "execution_count": 60,
   "id": "536ac5c0",
   "metadata": {},
   "outputs": [
    {
     "data": {
      "text/html": [
       "<div>\n",
       "<style scoped>\n",
       "    .dataframe tbody tr th:only-of-type {\n",
       "        vertical-align: middle;\n",
       "    }\n",
       "\n",
       "    .dataframe tbody tr th {\n",
       "        vertical-align: top;\n",
       "    }\n",
       "\n",
       "    .dataframe thead th {\n",
       "        text-align: right;\n",
       "    }\n",
       "</style>\n",
       "<table border=\"1\" class=\"dataframe\">\n",
       "  <thead>\n",
       "    <tr style=\"text-align: right;\">\n",
       "      <th></th>\n",
       "      <th>wind speed</th>\n",
       "      <th>wind direction</th>\n",
       "      <th>pressures</th>\n",
       "      <th>humidities</th>\n",
       "      <th>month</th>\n",
       "      <th>hour</th>\n",
       "      <th>location_Atlanta</th>\n",
       "      <th>location_Denver</th>\n",
       "      <th>location_Jacksonville</th>\n",
       "      <th>location_Los Angeles</th>\n",
       "      <th>location_Miami</th>\n",
       "    </tr>\n",
       "  </thead>\n",
       "  <tbody>\n",
       "    <tr>\n",
       "      <th>0</th>\n",
       "      <td>0</td>\n",
       "      <td>45</td>\n",
       "      <td>-0.785764</td>\n",
       "      <td>1.728905</td>\n",
       "      <td>7</td>\n",
       "      <td>13</td>\n",
       "      <td>0.0</td>\n",
       "      <td>0.0</td>\n",
       "      <td>0.0</td>\n",
       "      <td>1.0</td>\n",
       "      <td>0.0</td>\n",
       "    </tr>\n",
       "    <tr>\n",
       "      <th>1</th>\n",
       "      <td>1</td>\n",
       "      <td>233</td>\n",
       "      <td>1.976688</td>\n",
       "      <td>-1.338507</td>\n",
       "      <td>7</td>\n",
       "      <td>13</td>\n",
       "      <td>0.0</td>\n",
       "      <td>1.0</td>\n",
       "      <td>0.0</td>\n",
       "      <td>0.0</td>\n",
       "      <td>0.0</td>\n",
       "    </tr>\n",
       "    <tr>\n",
       "      <th>2</th>\n",
       "      <td>1</td>\n",
       "      <td>0</td>\n",
       "      <td>-0.417437</td>\n",
       "      <td>-0.223085</td>\n",
       "      <td>7</td>\n",
       "      <td>13</td>\n",
       "      <td>1.0</td>\n",
       "      <td>0.0</td>\n",
       "      <td>0.0</td>\n",
       "      <td>0.0</td>\n",
       "      <td>0.0</td>\n",
       "    </tr>\n",
       "    <tr>\n",
       "      <th>3</th>\n",
       "      <td>2</td>\n",
       "      <td>240</td>\n",
       "      <td>-0.417437</td>\n",
       "      <td>0.195199</td>\n",
       "      <td>7</td>\n",
       "      <td>13</td>\n",
       "      <td>0.0</td>\n",
       "      <td>0.0</td>\n",
       "      <td>1.0</td>\n",
       "      <td>0.0</td>\n",
       "      <td>0.0</td>\n",
       "    </tr>\n",
       "    <tr>\n",
       "      <th>4</th>\n",
       "      <td>2</td>\n",
       "      <td>140</td>\n",
       "      <td>-0.356049</td>\n",
       "      <td>-0.362512</td>\n",
       "      <td>7</td>\n",
       "      <td>13</td>\n",
       "      <td>0.0</td>\n",
       "      <td>0.0</td>\n",
       "      <td>0.0</td>\n",
       "      <td>0.0</td>\n",
       "      <td>1.0</td>\n",
       "    </tr>\n",
       "  </tbody>\n",
       "</table>\n",
       "</div>"
      ],
      "text/plain": [
       "  wind speed wind direction  pressures  humidities  month  hour  \\\n",
       "0          0             45  -0.785764    1.728905      7    13   \n",
       "1          1            233   1.976688   -1.338507      7    13   \n",
       "2          1              0  -0.417437   -0.223085      7    13   \n",
       "3          2            240  -0.417437    0.195199      7    13   \n",
       "4          2            140  -0.356049   -0.362512      7    13   \n",
       "\n",
       "   location_Atlanta  location_Denver  location_Jacksonville  \\\n",
       "0               0.0              0.0                    0.0   \n",
       "1               0.0              1.0                    0.0   \n",
       "2               1.0              0.0                    0.0   \n",
       "3               0.0              0.0                    1.0   \n",
       "4               0.0              0.0                    0.0   \n",
       "\n",
       "   location_Los Angeles  location_Miami  \n",
       "0                   1.0             0.0  \n",
       "1                   0.0             0.0  \n",
       "2                   0.0             0.0  \n",
       "3                   0.0             0.0  \n",
       "4                   0.0             1.0  "
      ]
     },
     "metadata": {},
     "output_type": "display_data"
    }
   ],
   "source": [
    "display(features_predict.head())"
   ]
  },
  {
   "cell_type": "code",
   "execution_count": 61,
   "id": "d12cab46",
   "metadata": {},
   "outputs": [],
   "source": [
    "dataset_final = dataset\n",
    "\n",
    "from sklearn.preprocessing import StandardScaler\n",
    "scaler = StandardScaler()\n",
    "cols_to_scale = ['pressures', 'humidities']\n",
    "dataset_final[cols_to_scale] = scaler.fit_transform(dataset_final[cols_to_scale])\n"
   ]
  },
  {
   "cell_type": "code",
   "execution_count": 62,
   "id": "c21c7e3e",
   "metadata": {},
   "outputs": [],
   "source": [
    "dataset_final_desc = dataset_final\n",
    "X_train_final_desc = dataset_final_desc.drop(columns=['temperatures', 'description', 'new_class'])\n",
    "y_train_final_desc = dataset_final_desc['description']\n",
    "y_train_final_newclass = dataset_final_desc['new_class']"
   ]
  },
  {
   "cell_type": "code",
   "execution_count": 63,
   "id": "df846aa3",
   "metadata": {},
   "outputs": [],
   "source": [
    "opt_rf_model = RandomForestClassifier(criterion='gini',max_depth=None, min_samples_leaf=1,n_estimators=1000,\n",
    "                                 max_features=0.5,max_samples=None,random_state=0)\n",
    "opt_rf_model.fit(X_train_final_desc,y_train_final_desc)\n",
    "preds_desc = opt_rf_model.predict(features_predict)"
   ]
  },
  {
   "cell_type": "code",
   "execution_count": 64,
   "id": "67c0b7a9",
   "metadata": {},
   "outputs": [
    {
     "name": "stdout",
     "output_type": "stream",
     "text": [
      "[21 19 21 21 19]\n"
     ]
    }
   ],
   "source": [
    "print(preds_desc)"
   ]
  },
  {
   "cell_type": "code",
   "execution_count": 65,
   "id": "6bdd578c",
   "metadata": {},
   "outputs": [
    {
     "name": "stdout",
     "output_type": "stream",
     "text": [
      "sky is clear\n",
      "scattered clouds\n"
     ]
    }
   ],
   "source": [
    "print(a[1])\n",
    "print(a[6])"
   ]
  },
  {
   "cell_type": "code",
   "execution_count": null,
   "id": "1016a6f0",
   "metadata": {},
   "outputs": [],
   "source": []
  },
  {
   "cell_type": "code",
   "execution_count": 66,
   "id": "38797862",
   "metadata": {},
   "outputs": [],
   "source": [
    "opt_rf_model = RandomForestClassifier(criterion='gini',max_depth=None, min_samples_leaf=1,n_estimators=1000,\n",
    "                                 max_features=0.5,max_samples=None,random_state=0)\n",
    "opt_rf_model.fit(X_train_final_desc,y_train_final_newclass)\n",
    "preds_desc_newclass = opt_rf_model.predict(features_predict)"
   ]
  },
  {
   "cell_type": "code",
   "execution_count": 67,
   "id": "42406444",
   "metadata": {},
   "outputs": [
    {
     "name": "stdout",
     "output_type": "stream",
     "text": [
      "[3 3 3 3 1]\n"
     ]
    }
   ],
   "source": [
    "print(preds_desc_newclass)"
   ]
  },
  {
   "cell_type": "code",
   "execution_count": 71,
   "id": "f3704bb3",
   "metadata": {},
   "outputs": [],
   "source": [
    "dataset_final_temp = dataset_final\n",
    "X_train_final_temp = dataset_final_temp.drop(columns=['temperatures', 'description', 'new_class'])\n",
    "y_train_final_temp = dataset_final_temp['temperatures']"
   ]
  },
  {
   "cell_type": "code",
   "execution_count": 72,
   "id": "5a8bc8ba",
   "metadata": {},
   "outputs": [],
   "source": [
    "opt_regressor = RandomForestRegressor(min_samples_leaf=1,n_estimators=1000,\n",
    "                                 max_features=0.5,max_samples=None,random_state=0)\n",
    "opt_regressor.fit(X_train_final_temp,y_train_final_temp)\n",
    "preds_temp = opt_regressor.predict(features_predict)\n"
   ]
  },
  {
   "cell_type": "code",
   "execution_count": 73,
   "id": "cff7cfef",
   "metadata": {},
   "outputs": [
    {
     "name": "stdout",
     "output_type": "stream",
     "text": [
      "[290.50077633 286.12016027 293.78768108 298.97950285 299.20306794]\n"
     ]
    }
   ],
   "source": [
    "print(preds_temp)"
   ]
  },
  {
   "cell_type": "code",
   "execution_count": null,
   "id": "68a7eeb1",
   "metadata": {},
   "outputs": [],
   "source": []
  }
 ],
 "metadata": {
  "colab": {
   "name": "Weather2ipynb.ipynb",
   "provenance": [],
   "toc_visible": true
  },
  "kernelspec": {
   "display_name": "Python 3",
   "language": "python",
   "name": "python3"
  },
  "language_info": {
   "codemirror_mode": {
    "name": "ipython",
    "version": 3
   },
   "file_extension": ".py",
   "mimetype": "text/x-python",
   "name": "python",
   "nbconvert_exporter": "python",
   "pygments_lexer": "ipython3",
   "version": "3.8.8"
  }
 },
 "nbformat": 4,
 "nbformat_minor": 5
}
